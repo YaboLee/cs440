{
 "cells": [
  {
   "cell_type": "code",
   "execution_count": 1,
   "metadata": {
    "collapsed": true
   },
   "outputs": [],
   "source": [
    "import numpy as np\n",
    "\n",
    "class DATA():\n",
    "    def __init__(self, matrix, label):\n",
    "        self.matrix = matrix\n",
    "        self.label = label    "
   ]
  },
  {
   "cell_type": "code",
   "execution_count": 28,
   "metadata": {
    "scrolled": true
   },
   "outputs": [],
   "source": [
    "trn_data = {}\n",
    "prior = {}\n",
    "\n",
    "# Training Data\n",
    "with open(\"optdigits-orig_train.txt\") as f:\n",
    "    matrix = []\n",
    "    for line in f:\n",
    "        if len(line) != 3:\n",
    "            matrix.append(line.rstrip())\n",
    "        else:\n",
    "            class_idx = int(line.rstrip())\n",
    "            observation = DATA(matrix, line.rstrip())\n",
    "            if class_idx not in trn_data:\n",
    "                trn_data[class_idx] = [observation]\n",
    "            else:\n",
    "                trn_data[class_idx] = trn_data[class_idx] + [observation]\n",
    "            matrix = []\n",
    "\n",
    "# Prior Probability for each digit\n",
    "total = 0\n",
    "for i in range(10):\n",
    "    total += len(trn_data[i])\n",
    "for i in range(10):\n",
    "    prior[i] = len(trn_data[i]) / total\n",
    "prior\n",
    "\n",
    "# Testing Data\n",
    "tst_data = {}\n",
    "with open(\"optdigits-orig_test.txt\") as f:\n",
    "    matrix = []\n",
    "    for line in f:\n",
    "        if len(line) != 3:\n",
    "            matrix.append(line.rstrip())\n",
    "        else:\n",
    "            class_idx = int(line.rstrip())\n",
    "            observation = DATA(matrix, line.rstrip())\n",
    "            if class_idx not in trn_data:\n",
    "                tst_data[class_idx] = [observation]\n",
    "            else:\n",
    "                tst_data[class_idx] = trn_data[class_idx] + [observation]\n",
    "            matrix = []"
   ]
  },
  {
   "cell_type": "code",
   "execution_count": 29,
   "metadata": {},
   "outputs": [],
   "source": [
    "# Calculating all likelihood probability from trainning data\n",
    "# P(f_ij = 0 | class)\n",
    "# P(f_ij = 1 | class)\n",
    "feature_dict_1 = {}\n",
    "feature_dict_0 = {}\n",
    "for i in range(10):\n",
    "    feature_dict_1[i] = np.zeros((32, 32))\n",
    "    feature_dict_0[i] = np.zeros((32, 32))\n",
    "\n",
    "for class_idx in range(10):\n",
    "    digit_data = trn_data[class_idx]\n",
    "    feature_prob_1 = feature_dict_1[class_idx] \n",
    "    feature_prob_0 = feature_dict_0[class_idx] \n",
    "    for i in range(32):\n",
    "        for j in range(32): \n",
    "            f = 0\n",
    "            num = 0\n",
    "            for digit in digit_data:\n",
    "                if digit.matrix[i][j] == \"1\":\n",
    "                    f += 1\n",
    "                num += 1\n",
    "            # Laplace Smoothing\n",
    "            feature_prob_1[i][j] = (f+1)/(num+1)\n",
    "            feature_prob_0[i][j] = (num - f + 1)/(num+1)"
   ]
  },
  {
   "cell_type": "code",
   "execution_count": 33,
   "metadata": {
    "collapsed": true
   },
   "outputs": [],
   "source": [
    "def cor_rate(actual, predict):\n",
    "    sum = 0\n",
    "    for value in predict:\n",
    "        if value == actual:\n",
    "            sum += 1\n",
    "    return sum / len(predict)"
   ]
  },
  {
   "cell_type": "code",
   "execution_count": 31,
   "metadata": {},
   "outputs": [],
   "source": [
    "# Get all the predicted label\n",
    "pred_label = {}\n",
    "for idx in range(10):\n",
    "    digits_data = tst_data[idx]\n",
    "    label = []\n",
    "    for digit in digits_data:\n",
    "        prob = np.zeros((10,))\n",
    "        for class_idx in range(10):\n",
    "            feature_class_1 = feature_dict_1[class_idx]\n",
    "            feature_class_0 = feature_dict_0[class_idx]\n",
    "            log_sum = np.log(prior[class_idx])\n",
    "            for i in range(32):\n",
    "                for j in range(32):\n",
    "                    if digit.matrix[i][j] == \"0\":\n",
    "                        log_sum += np.log(feature_class_0[i][j])\n",
    "                    else:\n",
    "                        log_sum += np.log(feature_class_1[i][j])\n",
    "\n",
    "            prob[class_idx] = log_sum\n",
    "            \n",
    "        label.append(int(np.argmax(prob)))\n",
    "        \n",
    "    pred_label[idx] = label"
   ]
  },
  {
   "cell_type": "code",
   "execution_count": 36,
   "metadata": {
    "scrolled": true
   },
   "outputs": [
    {
     "data": {
      "text/plain": [
       "array([0.98755187, 0.88047809, 0.92712551, 0.94444444, 0.91322314,\n",
       "       0.88655462, 0.9916318 , 0.98406375, 0.95258621, 0.88888889])"
      ]
     },
     "execution_count": 36,
     "metadata": {},
     "output_type": "execute_result"
    }
   ],
   "source": [
    "# Calculating the classification rate\n",
    "correct_rate = np.zeros((10,))\n",
    "for i in range(10):\n",
    "    correct_rate[i] = cor_rate(i, pred_label[i])\n",
    "correct_rate"
   ]
  },
  {
   "cell_type": "code",
   "execution_count": 30,
   "metadata": {},
   "outputs": [
    {
     "name": "stdout",
     "output_type": "stream",
     "text": [
      "00000000000000000000000100000000\n",
      "00000000000000000111111111000000\n",
      "00000000000000001111111111100000\n",
      "00000000000111111111111111000000\n",
      "00000000001111111111111111000000\n",
      "00000000111111111111111111000000\n",
      "00000001111111100001111110000000\n",
      "00000001111110000001111100000000\n",
      "00000011111100000011111100000000\n",
      "00000001111000001111111000000000\n",
      "00000011111000111111110000000000\n",
      "00000011111111111111111000000000\n",
      "00000011111111111111111000000000\n",
      "00000000111111111111111100000000\n",
      "00000000111111100001111100000000\n",
      "00000000000000000001111110000000\n",
      "00000000000000000000111110000000\n",
      "00000000000000000000111110000000\n",
      "00000000000000000000111110000000\n",
      "00000000000000000000111110000000\n",
      "00000000000000000000111110000000\n",
      "00000000000000000001111110000000\n",
      "00000000000000000001111110000000\n",
      "00000000000000000001111100000000\n",
      "00000000000000000001111000000000\n",
      "00000000000000000011111000000000\n",
      "00000000000000000111111000000000\n",
      "00000000000000001111110000000000\n",
      "00000000000000001111110000000000\n",
      "00000000000000001111100000000000\n",
      "00000000000000011111000000000000\n",
      "00000000000000001100000000000000\n",
      " \n",
      "[-610.54566974 -516.11423216 -734.03052045 -496.64020865 -562.9872318\n",
      " -435.63071682 -897.98873704 -673.06123767 -505.79906749 -302.69180272]\n",
      "Predicted label: 9\n"
     ]
    }
   ],
   "source": [
    "# testing for a single test data\n",
    "trial = tst_data[9][1]\n",
    "for row in trial.matrix:\n",
    "    print(row)\n",
    "\n",
    "prob = np.zeros((10,))\n",
    "\n",
    "for class_idx in range(10):\n",
    "    feature_class_1 = feature_dict_1[class_idx]\n",
    "    feature_class_0 = feature_dict_0[class_idx]\n",
    "    log_sum = np.log(prior[class_idx])\n",
    "    for i in range(32):\n",
    "        for j in range(32):\n",
    "            if trial.matrix[i][j] == \"0\":\n",
    "                log_sum += np.log(feature_class_0[i][j])\n",
    "            else:\n",
    "                log_sum += np.log(feature_class_1[i][j])\n",
    "                \n",
    "    prob[class_idx] = log_sum\n",
    "\n",
    "print(\" \")\n",
    "print(prob)\n",
    "print(\"Predicted label:\", np.argmax(prob))"
   ]
  },
  {
   "cell_type": "code",
   "execution_count": null,
   "metadata": {},
   "outputs": [],
   "source": []
  },
  {
   "cell_type": "code",
   "execution_count": null,
   "metadata": {
    "scrolled": false
   },
   "outputs": [],
   "source": []
  },
  {
   "cell_type": "code",
   "execution_count": null,
   "metadata": {},
   "outputs": [],
   "source": []
  },
  {
   "cell_type": "code",
   "execution_count": null,
   "metadata": {
    "collapsed": true
   },
   "outputs": [],
   "source": []
  }
 ],
 "metadata": {
  "kernelspec": {
   "display_name": "Python 3",
   "language": "python",
   "name": "python3"
  },
  "language_info": {
   "codemirror_mode": {
    "name": "ipython",
    "version": 3
   },
   "file_extension": ".py",
   "mimetype": "text/x-python",
   "name": "python",
   "nbconvert_exporter": "python",
   "pygments_lexer": "ipython3",
   "version": "3.6.1"
  }
 },
 "nbformat": 4,
 "nbformat_minor": 2
}
