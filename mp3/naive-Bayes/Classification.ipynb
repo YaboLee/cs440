{
 "cells": [
  {
   "cell_type": "code",
   "execution_count": 1,
   "metadata": {
    "collapsed": true
   },
   "outputs": [],
   "source": [
    "import numpy as np\n",
    "\n",
    "class DATA():\n",
    "    def __init__(self, matrix, label):\n",
    "        self.matrix = matrix\n",
    "        self.label = label   \n",
    "        self.feature = None"
   ]
  },
  {
   "cell_type": "code",
   "execution_count": 2,
   "metadata": {
    "collapsed": true
   },
   "outputs": [],
   "source": [
    "def import_data(source, classified):\n",
    "    if classified:\n",
    "        digits_data = {}\n",
    "    else:\n",
    "        digits_data = []\n",
    "        \n",
    "    with open(source) as f:\n",
    "        matrix = []\n",
    "        vector = []\n",
    "        for line in f:\n",
    "            if len(line) > 10:\n",
    "                for element in line.rstrip():  \n",
    "                    vector.append(int(element))\n",
    "                matrix.append(line.rstrip())\n",
    "            else:\n",
    "                class_idx = int(line.rstrip())\n",
    "                observation = DATA(matrix, class_idx)\n",
    "                observation.feature = np.array(vector)\n",
    "                \n",
    "                if classified:\n",
    "                    if class_idx not in digits_data:\n",
    "                        digits_data[class_idx] = [observation]\n",
    "                    else:\n",
    "                        digits_data[class_idx] = digits_data[class_idx] + [observation]\n",
    "                    matrix = []\n",
    "                    vector = []    \n",
    "                else:\n",
    "                    digits_data.append(observation)\n",
    "                    matrix = []\n",
    "                    vector = []\n",
    "                    \n",
    "    return digits_data"
   ]
  },
  {
   "cell_type": "code",
   "execution_count": null,
   "metadata": {
    "collapsed": true
   },
   "outputs": [],
   "source": [
    "def eval_prior(trn_data):\n",
    "    prior = {}\n",
    "    total = 0\n",
    "    for i in range(10):\n",
    "        total += len(trn_data[i])\n",
    "    for i in range(10):\n",
    "        prior[i] = len(trn_data[i]) / total\n",
    "    return prior \n",
    "\n",
    "def likelihood(trn_data, target):\n",
    "    feature_dict = {}\n",
    "    for i in range(10):\n",
    "        feature_dict[i] = np.zeros((32, 32))       \n",
    "    for class_idx in range(10):\n",
    "        digit_data = trn_data[class_idx]\n",
    "        feature_prob = feature_dict[class_idx] \n",
    "        for i in range(32):\n",
    "            for j in range(32): \n",
    "                f = 0\n",
    "                num = 0\n",
    "                for digit in digit_data:\n",
    "                    if digit.matrix[i][j] == target:\n",
    "                        f += 1\n",
    "                    num += 1\n",
    "                # Laplace Smoothing\n",
    "                feature_prob[i][j] = (f+1)/(num+1)\n",
    "                \n",
    "    return feature_dict\n",
    "\n",
    "def prediction(tst_data, prior, feature_dict_0, feature_dict_1):\n",
    "    pred_label = {}\n",
    "    for idx in range(10):\n",
    "        digits_data = tst_data[idx]\n",
    "        label = []\n",
    "        for digit in digits_data:\n",
    "            prob = np.zeros((10,))\n",
    "            for class_idx in range(10):\n",
    "                feature_class_1 = feature_dict_1[class_idx]\n",
    "                feature_class_0 = feature_dict_0[class_idx]\n",
    "                log_sum = np.log(prior[class_idx])\n",
    "                for i in range(32):\n",
    "                    for j in range(32):\n",
    "                        if digit.matrix[i][j] == \"0\":\n",
    "                            log_sum += np.log(feature_class_0[i][j])\n",
    "                        else:\n",
    "                            log_sum += np.log(feature_class_1[i][j])\n",
    "\n",
    "                prob[class_idx] = log_sum\n",
    "                \n",
    "            label.append(int(np.argmax(prob)))\n",
    "        pred_label[idx] = label\n",
    "    return pred_label\n",
    "\n",
    "def cor_rate(actual, predict):\n",
    "    sum = 0\n",
    "    for value in predict:\n",
    "        if value == actual:\n",
    "            sum += 1\n",
    "    return sum / len(predict)\n",
    "\n",
    "def correct_rate(pred_label):\n",
    "    rate = np.zeros((10,))\n",
    "    for i in range(10):\n",
    "        rate[i] = cor_rate(i, pred_label[i])\n",
    "    return rate\n",
    "\n",
    "def correct_rate_overall(pred_label):\n",
    "    hit = 0\n",
    "    total = 0\n",
    "    for i in range(10):\n",
    "        for label in pred_label[i]:\n",
    "            if label == i:\n",
    "                hit += 1\n",
    "            total += 1\n",
    "    return hit / total"
   ]
  },
  {
   "cell_type": "code",
   "execution_count": null,
   "metadata": {
    "scrolled": true
   },
   "outputs": [],
   "source": [
    "trn_data = import_data(\"optdigits-orig_train.txt\", True)\n",
    "tst_data = import_data(\"optdigits-orig_test.txt\", True)\n",
    "prior = eval_prior(trn_data)"
   ]
  },
  {
   "cell_type": "markdown",
   "metadata": {},
   "source": [
    "## Part 1.1: _Naive Bayes Classifier:_"
   ]
  },
  {
   "cell_type": "code",
   "execution_count": null,
   "metadata": {},
   "outputs": [],
   "source": [
    "feature_dict_0 = likelihood(trn_data, \"0\")\n",
    "feature_dict_1 = likelihood(trn_data, \"1\")\n",
    "pred_label = prediction(tst_data, prior, feature_dict_0, feature_dict_1)\n",
    "\n",
    "correct_rate(pred_label)"
   ]
  },
  {
   "cell_type": "markdown",
   "metadata": {
    "collapsed": true
   },
   "source": [
    "## Part 2.1: _Perceptron:_"
   ]
  },
  {
   "cell_type": "markdown",
   "metadata": {},
   "source": [
    "Apply the multi-class (non-differentiable) perceptron learning rule from lecture to the digit classification problem from Part 1.1. As before, the basic feature set consists of a single binary indicator feature for each pixel. Specifically, the feature $F_{i,j}$ indicates the status of the (i,j)-th pixel. Its value is 1 if the pixel contains value 1, and 0 if it is 0. The images are of size 32*32, so there are 1024 features in total. For a multi-class perceptron, you need to learn a weight vector for each digit class. Each component of a weight vector corresponds to the weight of a pixel, which makes it of length either 1024 (without bias) or 1025 (with bias)."
   ]
  },
  {
   "cell_type": "markdown",
   "metadata": {},
   "source": [
    "To get your results, you should tune the following parameters (it is not necessary to separately report results for multiple settings, only report which options you tried and which one worked the best):\n",
    "\n",
    "- Learning rate decay function;\n",
    "- Bias vs. no bias;\n",
    "- Initialization of weights (zeros vs. random);\n",
    "- Ordering of training examples (fixed vs. random);\n",
    "- Number of epochs."
   ]
  },
  {
   "cell_type": "code",
   "execution_count": 18,
   "metadata": {
    "collapsed": true
   },
   "outputs": [],
   "source": [
    "from random import randint\n",
    "import random\n",
    "%matplotlib inline\n",
    "import matplotlib.pyplot as plt\n",
    "\n",
    "def prediction_p(tst_data, w):\n",
    "    pred = {}\n",
    "    for class_idx in range(10):\n",
    "        tst_data_i = tst_data[class_idx]\n",
    "        label = []\n",
    "        for data in tst_data_i:\n",
    "            c = np.zeros((10,))\n",
    "            for i in range(10):\n",
    "                c[i] = data.feature @ w[i]\n",
    "            label.append(int(np.argmax(c)))\n",
    "        pred[class_idx] = label \n",
    "        \n",
    "    return pred\n",
    "\n",
    "def rate_helper(actual, predict):\n",
    "    sum = 0\n",
    "    for value in predict:\n",
    "        if value == actual:\n",
    "            sum += 1\n",
    "    return sum / len(predict)\n",
    "\n",
    "def correct_rate(pred_label):\n",
    "    rate = np.zeros((10,))\n",
    "    for i in range(10):\n",
    "        rate[i] = rate_helper(i, pred_label[i])\n",
    "    return rate\n",
    "\n",
    "def correct_rate_overall(pred_label):\n",
    "    hit = 0\n",
    "    total = 0\n",
    "    for i in range(10):\n",
    "        for label in pred_label[i]:\n",
    "            if label == i:\n",
    "                hit += 1\n",
    "            total += 1\n",
    "    return hit / total\n",
    "\n",
    "# This is a 10x10 matrix whose entry in row r and column c is \n",
    "# the percentage of test images from class r that are classified as class c\n",
    "def confusion_matrix(pred_label):\n",
    "    confusion = np.zeros((10, 10))\n",
    "    for r in range(10):\n",
    "        class_r = pred_label[r]\n",
    "        num_cor = np.zeros((10,))\n",
    "        total = 0\n",
    "        for label in class_r:\n",
    "            num_cor[label] += 1\n",
    "            total += 1\n",
    "        confusion[r] = num_cor / total\n",
    "    return confusion"
   ]
  },
  {
   "cell_type": "code",
   "execution_count": 4,
   "metadata": {
    "collapsed": true
   },
   "outputs": [],
   "source": [
    "# Import overall training data\n",
    "trn_data_unclassified = import_data(\"optdigits-orig_train.txt\", classified = False)\n",
    "trn_data = import_data(\"optdigits-orig_train.txt\", classified = True)\n",
    "tst_data = import_data(\"optdigits-orig_test.txt\", classified = True)"
   ]
  },
  {
   "cell_type": "markdown",
   "metadata": {},
   "source": [
    "- _**Implementing the Perceptron:**_"
   ]
  },
  {
   "cell_type": "code",
   "execution_count": 40,
   "metadata": {},
   "outputs": [],
   "source": [
    "def perceptron(trn_data_unclassified, trn_data, epochs, bias, random_ordering, w):\n",
    "    results = {}\n",
    "    # Start:\n",
    "    for n in range(epochs):\n",
    "        train_data = trn_data_unclassified[:]\n",
    "        if random_ordering:\n",
    "            random.shuffle(train_data)\n",
    "\n",
    "        for idx, digit in enumerate(train_data):\n",
    "            eta = 1 / (0.01 * idx + 1) # Learning rate decay function\n",
    "\n",
    "            for class_idx in range(10):\n",
    "                if digit.label == class_idx:\n",
    "                    y = 1\n",
    "                else:\n",
    "                    y = -1\n",
    "                if (digit.feature @ w[class_idx] + bias) * y <= 0:\n",
    "                    w[class_idx] = w[class_idx] + eta * y * digit.feature\n",
    "\n",
    "        pred = prediction_p(trn_data, w)\n",
    "        rate_overall = correct_rate_overall(pred)\n",
    "        results[n+1] = rate_overall\n",
    "        if rate_overall == 1:\n",
    "            return results\n",
    "\n",
    "    return results\n",
    "    "
   ]
  },
  {
   "cell_type": "markdown",
   "metadata": {},
   "source": [
    "- _**Setting the Tuning Parameters and start learning**_:"
   ]
  },
  {
   "cell_type": "code",
   "execution_count": 42,
   "metadata": {
    "scrolled": true
   },
   "outputs": [
    {
     "name": "stdout",
     "output_type": "stream",
     "text": [
      "Overall Test Accuracy: 0.9504504504504504\n",
      "\n",
      "Confusion Matrix:\n",
      "[[1.     0.     0.     0.     0.     0.     0.     0.     0.     0.    ]\n",
      " [0.     0.9778 0.     0.     0.     0.     0.     0.0222 0.     0.    ]\n",
      " [0.     0.     0.8537 0.     0.     0.     0.     0.     0.122  0.0244]\n",
      " [0.     0.     0.     0.9697 0.     0.     0.     0.     0.     0.0303]\n",
      " [0.     0.0339 0.     0.     0.9153 0.     0.     0.     0.0339 0.0169]\n",
      " [0.     0.     0.     0.     0.     1.     0.     0.     0.     0.    ]\n",
      " [0.     0.     0.     0.     0.0233 0.     0.9535 0.     0.0233 0.    ]\n",
      " [0.     0.     0.     0.     0.0213 0.     0.     0.9787 0.     0.    ]\n",
      " [0.     0.     0.     0.     0.     0.025  0.     0.     0.975  0.    ]\n",
      " [0.0238 0.     0.0238 0.     0.     0.0238 0.     0.0238 0.0238 0.881 ]]\n"
     ]
    },
    {
     "data": {
      "image/png": "[encoded data removed]",
      "text/plain": [
       "<matplotlib.figure.Figure at 0x10bb488d0>"
      ]
     },
     "metadata": {},
     "output_type": "display_data"
    }
   ],
   "source": [
    "#w = np.zeros((10, 1024))\n",
    "w = np.random.rand(10, 1024)\n",
    "epochs = 50\n",
    "bias = 0\n",
    "random_ordering = True\n",
    "\n",
    "#########################################################################################\n",
    "\n",
    "results = perceptron(trn_data_unclassified, trn_data, epochs, bias, random_ordering, w)\n",
    "pred = prediction_p(tst_data, w)\n",
    "rate_overall = correct_rate_overall(pred)\n",
    "confusion = confusion_matrix(pred)\n",
    "\n",
    "#########################################################################################\n",
    "\n",
    "print(\"Overall Test Accuracy: {}\\n\".format(rate_overall))\n",
    "print(\"Confusion Matrix:\")\n",
    "np.set_printoptions(precision=4)\n",
    "print(confusion)\n",
    "\n",
    "n_epochs = list(results.keys())\n",
    "trn_correct_rate = list(results.values())\n",
    "plt.xlabel('number of epochs')\n",
    "plt.ylabel('overall train correction rate')\n",
    "plt.title('epochs vs performance')\n",
    "plt.plot(n_epochs, trn_correct_rate, 'bo-')\n",
    "plt.show()"
   ]
  },
  {
   "cell_type": "markdown",
   "metadata": {
    "collapsed": true
   },
   "source": [
    "- _**Discussion:**_\n",
    "\n",
    "    - From the above code, it seems that when the ordering is random, bias doesn't really matter. Here we set bias = 0.\n",
    "    - The decay training function is: $\\eta = \\frac{1}{0.001 * n + 1}$ with nth sample and decay rate 0.001."
   ]
  },
  {
   "cell_type": "code",
   "execution_count": null,
   "metadata": {
    "collapsed": true
   },
   "outputs": [],
   "source": []
  },
  {
   "cell_type": "code",
   "execution_count": null,
   "metadata": {},
   "outputs": [],
   "source": []
  },
  {
   "cell_type": "code",
   "execution_count": null,
   "metadata": {},
   "outputs": [],
   "source": []
  },
  {
   "cell_type": "code",
   "execution_count": null,
   "metadata": {},
   "outputs": [],
   "source": []
  },
  {
   "cell_type": "code",
   "execution_count": null,
   "metadata": {},
   "outputs": [],
   "source": []
  },
  {
   "cell_type": "code",
   "execution_count": null,
   "metadata": {},
   "outputs": [],
   "source": []
  },
  {
   "cell_type": "code",
   "execution_count": null,
   "metadata": {},
   "outputs": [],
   "source": []
  },
  {
   "cell_type": "code",
   "execution_count": null,
   "metadata": {
    "collapsed": true
   },
   "outputs": [],
   "source": []
  }
 ],
 "metadata": {
  "kernelspec": {
   "display_name": "Python 3",
   "language": "python",
   "name": "python3"
  },
  "language_info": {
   "codemirror_mode": {
    "name": "ipython",
    "version": 3
   },
   "file_extension": ".py",
   "mimetype": "text/x-python",
   "name": "python",
   "nbconvert_exporter": "python",
   "pygments_lexer": "ipython3",
   "version": "3.6.1"
  }
 },
 "nbformat": 4,
 "nbformat_minor": 2
}
