{
 "cells": [
  {
   "cell_type": "code",
   "execution_count": 1,
   "metadata": {},
   "outputs": [
    {
     "name": "stdout",
     "output_type": "stream",
     "text": [
      " Volume in drive C is ZeroBlade\n",
      " Volume Serial Number is E2D6-3CB8\n",
      "\n",
      " Directory of C:\\Users\\ppl96\\OneDrive\\Documents\\GitHub\\cs440\\mp1\n",
      "\n",
      "02/07/2018  03:47 PM    <DIR>          .\n",
      "02/07/2018  03:47 PM    <DIR>          ..\n",
      "02/07/2018  03:46 PM    <DIR>          .ipynb_checkpoints\n",
      "02/02/2018  05:31 PM             2,573 bigMaze.txt\n",
      "02/07/2018  03:47 PM            34,125 Maze.ipynb\n",
      "02/07/2018  03:46 PM            50,846 mazeSolve.ipynb\n",
      "02/02/2018  05:31 PM             1,449 mediumMaze.txt\n",
      "02/02/2018  05:31 PM               780 openMaze.txt\n",
      "               5 File(s)         89,773 bytes\n",
      "               3 Dir(s)  378,524,037,120 bytes free\n"
     ]
    }
   ],
   "source": [
    "ls"
   ]
  },
  {
   "cell_type": "code",
   "execution_count": 2,
   "metadata": {},
   "outputs": [],
   "source": [
    "import copy\n",
    "import numpy as np\n",
    "import numpy.linalg as la\n",
    "import time\n",
    "from collections import deque"
   ]
  },
  {
   "cell_type": "code",
   "execution_count": 3,
   "metadata": {},
   "outputs": [],
   "source": [
    "mediumMaze = []\n",
    "bigMaze = []\n",
    "openMaze = []\n",
    "testMaze = []\n",
    "mediumSearch = []\n",
    "smallSearch = []\n",
    "tinySearch = []"
   ]
  },
  {
   "cell_type": "markdown",
   "metadata": {},
   "source": [
    "## Check the Maze:"
   ]
  },
  {
   "cell_type": "code",
   "execution_count": 11,
   "metadata": {},
   "outputs": [
    {
     "data": {
      "text/plain": [
       "['%%%%%%%%%%%',\n",
       " '%    %.   %',\n",
       " '%    %%%% %',\n",
       " '% P  %    %',\n",
       " '%     .   %',\n",
       " '%%%%%%%%%%%']"
      ]
     },
     "execution_count": 11,
     "metadata": {},
     "output_type": "execute_result"
    }
   ],
   "source": [
    "with open(\"testMaze.txt\") as f:\n",
    "    for line in f:\n",
    "        testMaze.append(line.rstrip())\n",
    "testMaze"
   ]
  },
  {
   "cell_type": "code",
   "execution_count": 4,
   "metadata": {},
   "outputs": [
    {
     "name": "stdout",
     "output_type": "stream",
     "text": [
      "37 20\n"
     ]
    },
    {
     "data": {
      "text/plain": [
       "['%%%%%%%%%%%%%%%%%%%%%%%%%%%%%%%%%%%%%',\n",
       " '%                     %P            %',\n",
       " '%                     %             %',\n",
       " '%                     %             %',\n",
       " '%                     %             %',\n",
       " '%                     %             %',\n",
       " '%                     %%%%%%%%      %',\n",
       " '%                            %      %',\n",
       " '%                            %      %',\n",
       " '%                            %      %',\n",
       " '%                            %      %',\n",
       " '%                            %      %',\n",
       " '%      %%%%%%%%%%%%%%%%%            %',\n",
       " '%      %                            %',\n",
       " '%      %                            %',\n",
       " '%      %                            %',\n",
       " '%      %                            %',\n",
       " '%      %%%%                         %',\n",
       " '%        .%                         %',\n",
       " '%%%%%%%%%%%%%%%%%%%%%%%%%%%%%%%%%%%%%']"
      ]
     },
     "execution_count": 4,
     "metadata": {},
     "output_type": "execute_result"
    }
   ],
   "source": [
    "with open(\"openMaze.txt\") as f:\n",
    "    for line in f:\n",
    "        openMaze.append(line.rstrip())\n",
    "print(len(openMaze[0]), len(openMaze))\n",
    "openMaze"
   ]
  },
  {
   "cell_type": "code",
   "execution_count": 5,
   "metadata": {},
   "outputs": [
    {
     "data": {
      "text/plain": [
       "['%%%%%%%%%%%%%%%%%%%%%%%%%%%%%%%%%%%%%%%%%%%%%%%%%%%%%%%%%%%%%',\n",
       " '%P    %       %             %         %     %           %   %',\n",
       " '%%% %%% % %%%%% %%%%% %%%%% %%% %%%%%%% % %%% % %%%%%%% % %%%',\n",
       " '%   %         %   % %   % %   %         %   % %     % % %   %',\n",
       " '% %%% %%% %%% %%% % %%% % %%% % %%%%%% %%%% % %%%%% % % %%% %',\n",
       " '% %   % %   % %   %   % %                 % %   % % %       %',\n",
       " '%   %%% % % % % % % % % %%% % %%%%%%% %%% % %%% % % %%%%%%% %',\n",
       " '% %   %   % %   %   % %   % %     %   %   %     % %   %   % %',\n",
       " '% %%%%%%% % % %%% %%% %%% % %%% %%% % % %%%%%%%%% %%% % % % %',\n",
       " '%   %   % %       % % %   %   % %   % % %     %     %   % % %',\n",
       " '% % %%% % %%% %%%%% % % %%%%% % % %%% % % %%% %%%%% %%%%% %%%',\n",
       " '% %   % %   %         % %   % %     %   % % %           %   %',\n",
       " '% %%%%% %%%%% %%%%% %%% % % % %%%%%%%%% % % %%% %%% %%% %%% %',\n",
       " '%     %       %         % % %         %   %     %     %   % %',\n",
       " '% %%% %%% %%%%% %%%%% % %%% %%% %%%%% %%%%%% %%%% %%% %%% % %',\n",
       " '%   %     %     %   % %         % % %   %     %   %     % % %',\n",
       " '% % %%% %%% %%% %%% % %%% %%%% %% % %%% % %%% % %%% %%% %%% %',\n",
       " '% %   %   %       %       %       %   %   % % % %     %   % %',\n",
       " '% % %%% % %%%% %% %%%%%%%%% %%%%% %%% % %%% % % % % %%%%% % %',\n",
       " '% %     %   %     %       %   %       %     %   % % %   % % %',\n",
       " '% %%%% %% % % %%%%% %%%%% %%% % %%%% %% %%% %% %% %%% % % % %',\n",
       " '%         % %           %     %           %           % %  .%',\n",
       " '%%%%%%%%%%%%%%%%%%%%%%%%%%%%%%%%%%%%%%%%%%%%%%%%%%%%%%%%%%%%%']"
      ]
     },
     "execution_count": 5,
     "metadata": {},
     "output_type": "execute_result"
    }
   ],
   "source": [
    "with open(\"mediumMaze.txt\") as f:\n",
    "    for line in f:\n",
    "        mediumMaze.append(line.rstrip())\n",
    "mediumMaze"
   ]
  },
  {
   "cell_type": "code",
   "execution_count": 6,
   "metadata": {},
   "outputs": [
    {
     "data": {
      "text/plain": [
       "['%%%%%%%%%%%%%%%%%%%%%%%%%%%%%%%%%%%%%%%%%%%%%%%%%%%%%%%%%%%%%%%%%%%%%%%%%%%%%%%%%',\n",
       " '% %           %                       %   %     %       %   %               %  .%',\n",
       " '% % %%% %%% %%% %% %%%%%%%%%% %%%%%%% %%% % %%% % % %%% % % % %%%%% %%% %%%%% % %',\n",
       " '%   %     %   % %   %       %   %   %   % % %   % % %     % %     % % % %     % %',\n",
       " '% %%%%    %%% % %%% % % %%% %%% % % %%% % % % %%% % %%%%% % %     % % % % %%%%% %',\n",
       " '%         %   %   %   % % % %   % %       %     %       % % % %   % %   % %     %',\n",
       " '%%% %% %% % %%%%% % %%% % % %  %% % %%%% %% %%% % %%%%% % % % % %%% % %%% % %%% %',\n",
       " '%       % % %   % % % % %   %     % %       % %   %   %   %     %   % %   % % % %',\n",
       " '% %%%%%%% % % % % % % % %%% % %%%%% % %%%%%%% %%%%%%% %%%%%%% %%% %%% % %%% % % %',\n",
       " '%     %   %   %   % % %   %   %           %     %   %   %         %   %   % % % %',\n",
       " '%%%%% % %%%%%   %%% % %%% % %%% %%%     % % %%% % % %%% % %%%%%%% %%% %%% % % % %',\n",
       " '%         %     %   % %   % %   %   %   %   %     %     %   %   % %     % % %   %',\n",
       " '% %%%%%%% % %%%%% %%% % %%% % %%%%%%% %%%%%%%%%%% %%% %%% % % % %%% % %%% % % %%%',\n",
       " '%       % %           % %   %         %         % %   %   % % % %   %     % %   %',\n",
       " '%%% % %%% %%%%% %%%%%%% %%% %    %% %%% %%%%% % %%% % %       % % %%%% %%%% %%% %',\n",
       " '%   %   %     %   %   %       %         %       %   %   % %   %           % %   %',\n",
       " '% % %%% %%%%% % %%% % %%%%% % % %%%%%%%%% %% %%%% % %%%%% %% %%%%%%%%%% %%% % %%%',\n",
       " '% %         % % %   % %   % % %       %   %       % %   %         %     %   % % %',\n",
       " '% % %%% %%%%% % % %%% % % %%% %%%%%%% %%% % %%% % %%% % %% %%%%        %% %%% % %',\n",
       " '%   %   %   % %     % %     %           % %   % % %   %     %     %     %   % % %',\n",
       " '% % %%%%% % % % %%% % % %%% %%% % %%    % %%%%% %%% %%% %%% % %%%%% %%% %%% % % %',\n",
       " '% %       % % %   % %   % %     % %     %     %           % %       % %   % %   %',\n",
       " '% %%% % %%% % %%% % %  %% %%% %%% % %% %%%% % %%%%% %     % %   %% %% %%% % %%% %',\n",
       " '% %   % % %   % % %     %   %     % %       %     % %     %   % %     %   %     %',\n",
       " '%   % % % %   % % %     % % % %%% % % %%%%% %%%%% % % %%%%% % % % %%% % %%% % %%%',\n",
       " '%   % %     %     %     % %   %   % % %     %     % % %     %   %       %   % % %',\n",
       " '%%% %%%% %% % %  %% %% %% % %%% % % % % %%% % %%%%% % % %%%%% %   % % %%% % % % %',\n",
       " '%   %     % % %   % %   %   % % % % % %   % % %     % %   %   %     %   % %     %',\n",
       " '%   % %%% % %%% % % % % % %%% % % % % %%% %%% %% %%%% % % % % % %%%%% % %%% %%% %',\n",
       " '%P      %       % % % %     %   %   %   %             % %   %         %     %   %',\n",
       " '%%%%%%%%%%%%%%%%%%%%%%%%%%%%%%%%%%%%%%%%%%%%%%%%%%%%%%%%%%%%%%%%%%%%%%%%%%%%%%%%%']"
      ]
     },
     "execution_count": 6,
     "metadata": {},
     "output_type": "execute_result"
    }
   ],
   "source": [
    "with open(\"bigMaze.txt\") as f:\n",
    "    for line in f:\n",
    "        bigMaze.append(line.rstrip())\n",
    "bigMaze"
   ]
  },
  {
   "cell_type": "code",
   "execution_count": 12,
   "metadata": {},
   "outputs": [
    {
     "data": {
      "text/plain": [
       "['%%%%%%%%%%%%%%%%%%%%%%%%%%%%%%%%%%%%%%%%%%%%%%%%%',\n",
       " '% .  %.        %             %  .%     % %   %  %',\n",
       " '%    %%%% %%%%%% %  % % %%         %%%%  %. %%% %',\n",
       " '%    %.%    % .% %  % %  %   %   %          %   %',\n",
       " '%   .            %.     %%%% %   %% .%%% %      %',\n",
       " '% %%%%% %%%%%%  %%%% %           .%    %. %%%%%%%',\n",
       " '%.      %   .%       .% %%%  %%%%%%  % %  %   % %',\n",
       " '%%% %%  % %%%%%%% %%%%% %    %  . %% % %    %.% %',\n",
       " '%    %  %      %  %      P% %%       %   %%%% % %',\n",
       " '%.      %   %  %  %     %          %       .%   %',\n",
       " '% % %%%   .% %    %% %% %%% %% %  %.%%%%%%%%%%% %',\n",
       " '%   %    %    %              %    %             %',\n",
       " '%%%%%%%%%%%%%%%%%%%%%%%%%%%%%%%%%%%%%%%%%%%%%%%%%']"
      ]
     },
     "execution_count": 12,
     "metadata": {},
     "output_type": "execute_result"
    }
   ],
   "source": [
    "with open(\"mediumSearch.txt\") as f:\n",
    "    for line in f:\n",
    "        mediumSearch.append(line.rstrip())\n",
    "mediumSearch"
   ]
  },
  {
   "cell_type": "code",
   "execution_count": 13,
   "metadata": {},
   "outputs": [
    {
     "data": {
      "text/plain": [
       "['%%%%%%%%%%%%%%%%%%%%%%%%%%%%%%',\n",
       " '%.     P .     %      .  .   %',\n",
       " '%   %%%%% %%%%%% %  % % %%   %',\n",
       " '%   %  %     %   %  % %  %  .%',\n",
       " '%     .%     .   %.   %  %%%%%',\n",
       " '%%%%% %%%% %%%  %%%%%%%      %',\n",
       " '%.               .    % %%%  %',\n",
       " '%% %%%%%%%% %%%%%%%%%%% %.   %',\n",
       " '%       %               % %%%%',\n",
       " '%       %%%%%     %.         %',\n",
       " '%.% %%%    %  %   %% %% %%%%%%',\n",
       " '%          % .%        .     %',\n",
       " '%%%%%%%%%%%%%%%%%%%%%%%%%%%%%%']"
      ]
     },
     "execution_count": 13,
     "metadata": {},
     "output_type": "execute_result"
    }
   ],
   "source": [
    "with open(\"smallSearch.txt\") as f:\n",
    "    for line in f:\n",
    "        smallSearch.append(line.rstrip())\n",
    "smallSearch"
   ]
  },
  {
   "cell_type": "code",
   "execution_count": 14,
   "metadata": {},
   "outputs": [
    {
     "data": {
      "text/plain": [
       "['%%%%%%%%%%',\n",
       " '%.  %   .%',\n",
       " '% %.% %% %',\n",
       " '% %   .%.%',\n",
       " '% .%P%   %',\n",
       " '%.  .  . %',\n",
       " '% %%%% %.%',\n",
       " '%.    .% %',\n",
       " '%%%%%%%%%%']"
      ]
     },
     "execution_count": 14,
     "metadata": {},
     "output_type": "execute_result"
    }
   ],
   "source": [
    "with open(\"tinySearch.txt\") as f:\n",
    "    for line in f:\n",
    "        tinySearch.append(line.rstrip())\n",
    "tinySearch"
   ]
  },
  {
   "cell_type": "markdown",
   "metadata": {},
   "source": [
    "## Class & Function defined: "
   ]
  },
  {
   "cell_type": "code",
   "execution_count": 36,
   "metadata": {},
   "outputs": [],
   "source": [
    "class maze():\n",
    "    \n",
    "#   create a maze with list;\n",
    "    def __init__(self, maze=\"mediumMaze.txt\"):\n",
    "        self.cost = {}\n",
    "        self.raw_list = []\n",
    "        self.maze_list = []\n",
    "        self.width = None\n",
    "        self.height = None\n",
    "        self.end = [] # ready for multiple dots\n",
    "        self.start = None\n",
    "        self.visited = [] \n",
    "        self.solution = [] # ready for draw;\n",
    "        \n",
    "        with open(maze) as f:\n",
    "            for line in f:\n",
    "                self.raw_list.append(line.rstrip())\n",
    "        self.width = len(self.raw_list[0])\n",
    "        self.height = len(self.raw_list)\n",
    "        \n",
    "        for line in self.raw_list:\n",
    "            for char in line:\n",
    "                if char == \"%\":\n",
    "                    self.maze_list.append(0)\n",
    "                elif char == \".\":\n",
    "                    self.maze_list.append(\"G\")\n",
    "                    self.end.append((len(self.maze_list)%self.width-1, len(self.maze_list)//self.width))\n",
    "                elif char == \"P\":\n",
    "                    self.maze_list.append(\"P\")\n",
    "                    self.start = ((len(self.maze_list)%self.width-1, len(self.maze_list)//self.width))\n",
    "                else:\n",
    "                    self.maze_list.append(1)\n",
    "\n",
    "    def accessMaze(self, x, y):\n",
    "        return self.maze_list[self.getPoint(x, y)]                \n",
    "    \n",
    "#   Transform the index in the raw_list to the index in the maze_list\n",
    "    def getPoint(self, x, y):\n",
    "        if x < self.width and y < self.height:\n",
    "            return y*self.width + x\n",
    "        else:\n",
    "            print(\"Index out of bound!\")\n",
    "            return False\n",
    "    \n",
    "    \n",
    "#   Return the adjacant node who is unvisited and valid\n",
    "    def adjacentList(self, pos):\n",
    "        adjacent = []\n",
    "        x, y = pos\n",
    "        if self.accessMaze(x+1, y) and self.getPoint(x+1, y) not in self.visited:\n",
    "            adjacent.append((x+1, y))\n",
    "        if self.accessMaze(x, y+1) and self.getPoint(x, y+1) not in self.visited:\n",
    "            adjacent.append((x, y+1))\n",
    "        if self.accessMaze(x-1, y) and self.getPoint(x-1, y) not in self.visited:\n",
    "            adjacent.append((x-1, y))\n",
    "        if self.accessMaze(x, y-1) and self.getPoint(x, y-1) not in self.visited:\n",
    "            adjacent.append((x, y-1))\n",
    "        return adjacent\n",
    "    \n",
    "#   dfs\n",
    "    def dfs(self, start=(1,1), end=(59,21)):\n",
    "        self.visited = []\n",
    "        self.solution = []\n",
    "        self.visited.append(self.getPoint(start[0], start[1]))\n",
    "        self.solution.append(start)\n",
    "        #print(\"start\")\n",
    "        self.dfs_helper(start)\n",
    "        \n",
    "        \n",
    "    def dfs_helper(self, current):\n",
    "        adjacent_nodes = self.adjacentList(current)  \n",
    "        \n",
    "        if current in self.end:\n",
    "            self.solution.append(current)\n",
    "            #print(\"I get the destination!\")\n",
    "            return True\n",
    "        \n",
    "        if not adjacent_nodes:\n",
    "            # Remove it from the visited list\n",
    "            self.solution = self.solution[:-1]\n",
    "            return\n",
    "        \n",
    "        for node in adjacent_nodes:\n",
    "            nextStep= node\n",
    "            self.visited.append(self.getPoint(node[0], node[1]))\n",
    "            self.solution.append((node[0], node[1]))\n",
    "            self.dfs_helper(nextStep)\n",
    "\n",
    "        if self.solution[-1] not in self.end:\n",
    "            self.solution = self.solution[:-1]       \n",
    "\n",
    "        return\n",
    "            \n",
    "#   bfs\n",
    "    def bfs(self, start):\n",
    "        self.bfsHelper(start)\n",
    "       \n",
    "    def bfsHelper(self,start):\n",
    "        self.start = start\n",
    "        self.visited = []\n",
    "        queue = []\n",
    "        parent = {}\n",
    "        queue.append(start)\n",
    "        self.visited.append(self.getPoint(start[0], start[1]))\n",
    "        while queue and len(self.end) != 0:\n",
    "            current = queue[0]\n",
    "            queue = queue[1:]\n",
    "            \n",
    "            if current in self.end:\n",
    "                #print(\"I get to the destination!\")\n",
    "                self.end.remove(current)\n",
    "                # The last step to the solution, track back\n",
    "                self.solution.append(current)\n",
    "\n",
    "                while current != self.start:\n",
    "                    self.solution.append(current)\n",
    "                    current = parent[current]\n",
    "                self.solution = self.solution[::-1]\n",
    "                \n",
    "                #new search:              \n",
    "                return self.bfsHelper(current)\n",
    "                \n",
    "            adjacent_nodes = self.adjacentList(current)\n",
    "            for node in adjacent_nodes:\n",
    "                parent[node] = current\n",
    "                queue.append(node)\n",
    "                self.visited.append(self.getPoint(node[0], node[1]))     \n",
    "        \n",
    "        return True\n",
    "\n",
    "# Greedy best first search\n",
    "# Heuristics function for single dot maze\n",
    "#     def heurisFunc(self, current):\n",
    "#         delta_x = current[0] - self.end[0][0]\n",
    "#         delta_y = current[1] - self.end[0][1]\n",
    "#         return delta_x + delta_y\n",
    "               \n",
    "    def best_first_search(self, start=(1,1), end=(59,21)):\n",
    "        if not self.cost:\n",
    "            self.countCost()\n",
    "        self.visited = []\n",
    "        self.solution = []\n",
    "        self.visited.append(self.getPoint(start[0], start[1]))\n",
    "        self.solution.append((start[0], start[1]))\n",
    "        self.greedyHelper(start)\n",
    "        \n",
    "    # Sort the adjaceny nodes list based on Manhattan Distance\n",
    "    # ** Single dots implementation **\n",
    "    def greedySort(self, adjacentList):\n",
    "        distance = []\n",
    "        for node in adjacentList:\n",
    "            distance.append(self.cost[node])\n",
    "          \n",
    "        # get the index in term of sorting\n",
    "        sorted_idx = np.argsort(distance) \n",
    "        \n",
    "        # sort the original adjacent node list, ****return a numpy array!****\n",
    "        return np.array(adjacentList)[sorted_idx]               \n",
    "            \n",
    "        \n",
    "    def greedyHelper(self, current): # Almost the same as dfs\n",
    "        if current in self.end:\n",
    "            #print(\"I get the destination!\")\n",
    "            self.solution.append(current)\n",
    "            return True\n",
    "        \n",
    "        adjacent_nodes = self.adjacentList(current)\n",
    "        if not adjacent_nodes:\n",
    "            self.solution = self.solution[:-1]\n",
    "            return\n",
    "        \n",
    "        # Sort the adjacent node list\n",
    "        sorted_adj_nodes = self.greedySort(adjacent_nodes)\n",
    "            \n",
    "        for node in sorted_adj_nodes:\n",
    "            nextStep = tuple(node)\n",
    "            self.visited.append(self.getPoint(node[0], node[1]))\n",
    "            self.solution.append((node[0], node[1]))\n",
    "            self.greedyHelper(nextStep)\n",
    "            \n",
    "        if self.solution[-1] not in self.end:\n",
    "            self.solution = self.solution[:-1]       \n",
    "        \n",
    "        return\n",
    "    \n",
    "#     # A* search\n",
    "#     # Return a sorted queue, act like a priority queue\n",
    "#     # Use Manhattan Distance + path cost as f\n",
    "    def A_star_search(self, start):\n",
    "        self.A_star_helper(start)\n",
    "        \n",
    "    def A_star_helper(self, start):\n",
    "        self.start = start\n",
    "        self.visited = []\n",
    "        queue = []\n",
    "        parent = {}\n",
    "        self.countCost()\n",
    "        queue.append(start)\n",
    "        self.visited.append(self.getPoint(start[0], start[1]))\n",
    "        \n",
    "        while queue and len(self.end) != 0:\n",
    "            current = queue[0]\n",
    "            queue = queue[1:]\n",
    "            \n",
    "            if current in self.end:\n",
    "                #print(\"I get to the destination!\")\n",
    "                # The last step to the solution, track back\n",
    "                self.end.remove(current)\n",
    "                self.solution.append(current)\n",
    "                \n",
    "                while current != self.start:\n",
    "                    self.solution.append(current)\n",
    "                    current = parent[current]\n",
    "                self.solution.append(current)\n",
    "                self.solution = self.solution[::-1]\n",
    "                return self.A_star_helper(current)\n",
    "            \n",
    "            adjacent_nodes = self.adjacentList(current)\n",
    "            for node in adjacent_nodes:\n",
    "                parent[node] = current\n",
    "                queue.append(node)\n",
    "                self.visited.append(self.getPoint(node[0], node[1]))\n",
    "            queue = self.AStarSort(queue, current)\n",
    "            \n",
    "        return True\n",
    "        \n",
    "    def AStarSort(self, queue, current):\n",
    "        distance = []\n",
    "        sorted_queue = []\n",
    "        for node in queue:\n",
    "            distance.append(self.cost[node] + self.manhattanDistance(current, node))\n",
    "          \n",
    "        # get the index in term of sorting\n",
    "        sorted_idx = np.argsort(distance) \n",
    "        sorted_arr = (np.array(queue)[sorted_idx]) \n",
    "        for node in sorted_arr:\n",
    "            sorted_queue.append(tuple(node))\n",
    "            \n",
    "        return sorted_queue\n",
    "\n",
    "    \n",
    "#   Utility functions\n",
    "    def manhattanDistance(self, cur, des): \n",
    "        return abs(cur[0] - des[0]) + abs(cur[1] - des[1])\n",
    "    \n",
    "    def countCost(self):\n",
    "        self.cost = {}\n",
    "        for g in self.end:\n",
    "            for index, cell in enumerate(self.maze_list):\n",
    "                x = index%self.width\n",
    "                y = index//self.width\n",
    "                if not cell:\n",
    "                    self.cost[(x,y)] = np.inf\n",
    "                else:\n",
    "                    self.cost[(x,y)] = self.manhattanDistance((x,y), g)\n",
    "                    \n",
    "    def drawSolution(self):\n",
    "        solution = copy.deepcopy(self.raw_list)  \n",
    "        for pos in self.solution:\n",
    "            x, y = pos\n",
    "            if self.raw_list[y][x] == \".\":\n",
    "                solution[y] = solution[y][:x] + \"G\" + solution[y][x+1:]\n",
    "            elif self.raw_list[y][x] == \"P\":\n",
    "                solution[y] = solution[y][:x] + \"P\" + solution[y][x+1:]\n",
    "            else:\n",
    "                solution[y] = solution[y][:x] + \".\" + solution[y][x+1:]\n",
    "        return solution\n",
    "\n",
    "    "
   ]
  },
  {
   "cell_type": "markdown",
   "metadata": {},
   "source": [
    " ## Single-dot MazeRunner: "
   ]
  },
  {
   "cell_type": "code",
   "execution_count": 38,
   "metadata": {},
   "outputs": [
    {
     "data": {
      "text/plain": [
       "['%%%%%%%%%%%',\n",
       " '%    %G...%',\n",
       " '%    %%%%.%',\n",
       " '% P..%....%',\n",
       " '%   ..G   %',\n",
       " '%%%%%%%%%%%']"
      ]
     },
     "execution_count": 38,
     "metadata": {},
     "output_type": "execute_result"
    }
   ],
   "source": [
    "m = maze(\"testMaze.txt\")\n",
    "#m = maze(\"tinySearch.txt\")\n",
    "#m = maze(\"smallSearch.txt\")\n",
    "\n",
    "#m.bfs(m.start)\n",
    "#m.best_first_search(m.start, m.end[0])\n",
    "#m.dfs(m.start, m.end[0])\n",
    "m.A_star_search(m.start)\n",
    "\n",
    "m.drawSolution()"
   ]
  },
  {
   "cell_type": "code",
   "execution_count": 39,
   "metadata": {},
   "outputs": [
    {
     "name": "stdout",
     "output_type": "stream",
     "text": [
      "105 ms ± 16.4 ms per loop (mean ± std. dev. of 7 runs, 10 loops each)\n"
     ]
    },
    {
     "data": {
      "text/plain": [
       "256"
      ]
     },
     "execution_count": 39,
     "metadata": {},
     "output_type": "execute_result"
    }
   ],
   "source": [
    "m = maze(\"bigMaze.txt\")\n",
    "#%timeit m.dfs(start=m.start, end=m.end[0])\n",
    "#%timeit m.bfs(start=m.start)\n",
    "%timeit m.best_first_search(start=m.start, end=m.end[0])\n",
    "\n",
    "#m.drawSolution()\n",
    "len(m.solution)"
   ]
  },
  {
   "cell_type": "code",
   "execution_count": 40,
   "metadata": {},
   "outputs": [
    {
     "name": "stdout",
     "output_type": "stream",
     "text": [
      "1.99 µs ± 188 ns per loop (mean ± std. dev. of 7 runs, 1000000 loops each)\n"
     ]
    },
    {
     "data": {
      "text/plain": [
       "['%%%%%%%%%%%%%%%%%%%%%%%%%%%%%%%%%%%%%%%%%%%%%%%%%%%%%%%%%%%%%',\n",
       " '%P..  %       %             %         %     %           %   %',\n",
       " '%%%.%%% % %%%%% %%%%% %%%%% %%% %%%%%%% % %%% % %%%%%%% % %%%',\n",
       " '%...%.........%   % %   % %   %         %   % %     % % %   %',\n",
       " '%.%%%.%%% %%%.%%% % %%% % %%% % %%%%%% %%%% % %%%%% % % %%% %',\n",
       " '%.%...% %   %.%...%...% %                 % %   % % %       %',\n",
       " '%...%%% % % %.%.%.%.%.% %%% % %%%%%%% %%% % %%% % % %%%%%%% %',\n",
       " '% %   %   % %...%...%.%   % %     %   %   %     % %   %   % %',\n",
       " '% %%%%%%% % % %%% %%%.%%% % %%% %%% % % %%%%%%%%% %%% % % % %',\n",
       " '%   %   % %       % %.%   %   % %   % % %     %     %   % % %',\n",
       " '% % %%% % %%% %%%%% %.% %%%%% % % %%% % % %%% %%%%% %%%%% %%%',\n",
       " '% %   % %   %      ...% %   % %     %   % % %           %   %',\n",
       " '% %%%%% %%%%% %%%%%.%%% % % % %%%%%%%%% % % %%% %%% %%% %%% %',\n",
       " '%     %       %    .....% % %         %   %     %     %   % %',\n",
       " '% %%% %%% %%%%% %%%%% %.%%% %%% %%%%% %%%%%% %%%% %%% %%% % %',\n",
       " '%   %     %     %   % %........ % % %   %     %   %.....% % %',\n",
       " '% % %%% %%% %%% %%% % %%% %%%%.%% % %%% % %%% % %%%.%%%.%%% %',\n",
       " '% %   %   %       %       %   ....%   %   % % % %...  %...% %',\n",
       " '% % %%% % %%%% %% %%%%%%%%% %%%%%.%%% % %%% % % %.% %%%%%.% %',\n",
       " '% %     %   %     %       %   %  .... %.....%   %.% %   %.% %',\n",
       " '% %%%% %% % % %%%%% %%%%% %%% % %%%%.%%.%%%.%% %%.%%% % %.% %',\n",
       " '%         % %           %     %     ....  %.......    % %..G%',\n",
       " '%%%%%%%%%%%%%%%%%%%%%%%%%%%%%%%%%%%%%%%%%%%%%%%%%%%%%%%%%%%%%']"
      ]
     },
     "execution_count": 40,
     "metadata": {},
     "output_type": "execute_result"
    }
   ],
   "source": [
    "m = maze(\"mediumMaze.txt\")\n",
    "#%timeit m.dfs(start=m.start, end=m.end[0])\n",
    "#%timeit m.bfs(start=m.start)\n",
    "#%timeit m.best_first_search(start=m.start, end=m.end[0])\n",
    "%timeit m.A_star_search(m.start)\n",
    "\n",
    "m.drawSolution()"
   ]
  },
  {
   "cell_type": "code",
   "execution_count": 41,
   "metadata": {
    "scrolled": true
   },
   "outputs": [
    {
     "name": "stdout",
     "output_type": "stream",
     "text": [
      "1.65 µs ± 172 ns per loop (mean ± std. dev. of 7 runs, 1000000 loops each)\n"
     ]
    },
    {
     "data": {
      "text/plain": [
       "['%%%%%%%%%%%%%%%%%%%%%%%%%%%%%%%%%%%%%',\n",
       " '%                     %P            %',\n",
       " '%                     %.            %',\n",
       " '%                     %.            %',\n",
       " '%                     %.            %',\n",
       " '%                     %........     %',\n",
       " '%                     %%%%%%%%.     %',\n",
       " '%                            %.     %',\n",
       " '%                            %.     %',\n",
       " '%                            %.     %',\n",
       " '%                            %.     %',\n",
       " '%     ...................    %.     %',\n",
       " '%     .%%%%%%%%%%%%%%%%%.   ...     %',\n",
       " '%     .%                . ...       %',\n",
       " '%     .%                ...         %',\n",
       " '%     .%                            %',\n",
       " '%     .%                            %',\n",
       " '%     .%%%%                         %',\n",
       " '%     ...G%                         %',\n",
       " '%%%%%%%%%%%%%%%%%%%%%%%%%%%%%%%%%%%%%']"
      ]
     },
     "execution_count": 41,
     "metadata": {},
     "output_type": "execute_result"
    }
   ],
   "source": [
    "m = maze(\"openMaze.txt\")\n",
    "#%timeit m.dfs(start=m.start, end=m.end[0])\n",
    "#m.bfs(start=m.start)\n",
    "#%timeit m.best_first_search(start=m.start, end=m.end[0])\n",
    "%timeit m.A_star_search(m.start)\n",
    "m.drawSolution()"
   ]
  },
  {
   "cell_type": "markdown",
   "metadata": {},
   "source": [
    "## Multi-dot MazeRunner:"
   ]
  },
  {
   "cell_type": "code",
   "execution_count": 44,
   "metadata": {},
   "outputs": [
    {
     "name": "stdout",
     "output_type": "stream",
     "text": [
      "2.02 µs ± 83.6 ns per loop (mean ± std. dev. of 7 runs, 1000000 loops each)\n"
     ]
    },
    {
     "data": {
      "text/plain": [
       "['%%%%%%%%%%%%%%%%%%%%%%%%%%%%%%',\n",
       " '%G ....P.G     %......G..G...%',\n",
       " '%. .%%%%%.%%%%%%.%. % % %%  .%',\n",
       " '%. .%  % ....%  .%. % %  %  G%',\n",
       " '%.....G%    .G...%G   %  %%%%%',\n",
       " '%%%%%.%%%% %%%..%%%%%%%..... %',\n",
       " '%G....     ......G    %.%%%. %',\n",
       " '%%.%%%%%%%%.%%%%%%%%%%%.%G.. %',\n",
       " '% .     %  .............% %%%%',\n",
       " '%..     %%%%%.    %G.        %',\n",
       " '%G% %%%    % .%   %%.%% %%%%%%',\n",
       " '%          % G%     ...G     %',\n",
       " '%%%%%%%%%%%%%%%%%%%%%%%%%%%%%%']"
      ]
     },
     "execution_count": 44,
     "metadata": {},
     "output_type": "execute_result"
    }
   ],
   "source": [
    "#m = maze(\"tinySearch.txt\")\n",
    "m = maze(\"smallSearch.txt\")\n",
    "#m = maze(\"mediumSearch.txt\")\n",
    "#%timeit m.bfs(start = m.start)\n",
    "%timeit m.A_star_search(m.start)\n",
    "\n",
    "m.drawSolution()"
   ]
  },
  {
   "cell_type": "code",
   "execution_count": 45,
   "metadata": {},
   "outputs": [
    {
     "name": "stdout",
     "output_type": "stream",
     "text": [
      "2.55 µs ± 800 ns per loop (mean ± std. dev. of 7 runs, 100000 loops each)\n"
     ]
    },
    {
     "data": {
      "text/plain": [
       "['%%%%%%%%%%%%%%%%%%%%%%%%%%%%%%%%%%%%%%%%%%%%%%%%%',\n",
       " '% G..%G...     %             %  G%     % %   %  %',\n",
       " '%   .%%%%.%%%%%% %  % % %%      ...%%%%  %G %%% %',\n",
       " '%   .%G%..  % G% %  % %  %   %  .%......... %   %',\n",
       " '%   G....     .  %G.... %%%% %  .%% G%%% %      %',\n",
       " '% %%%%%.%%%%%%. %%%%.%..    .....G% .  %G %%%%%%%',\n",
       " '%G......%...G%.......G%.%%% .%%%%%% .% %. %...% %',\n",
       " '%%%.%%. %.%%%%%%%.%%%%%.%....%  G %%.% %....%G% %',\n",
       " '%  ..%. %..... %..% .....P%.%%  . ...% ..%%%%.% %',\n",
       " '%G......%...%..%..% ....%..........%.......G%...%',\n",
       " '% % %%%...G% %....%%.%% %%% %% %  %G%%%%%%%%%%%.%',\n",
       " '%   %    %    %......        %    %.............%',\n",
       " '%%%%%%%%%%%%%%%%%%%%%%%%%%%%%%%%%%%%%%%%%%%%%%%%%']"
      ]
     },
     "execution_count": 45,
     "metadata": {},
     "output_type": "execute_result"
    }
   ],
   "source": [
    "m = maze(\"mediumSearch.txt\")\n",
    "# m.bfs(start = m.start)\n",
    "%timeit m.A_star_search(m.start)\n",
    "\n",
    "m.drawSolution()"
   ]
  },
  {
   "cell_type": "markdown",
   "metadata": {},
   "source": [
    "## Walking through the solution path..."
   ]
  },
  {
   "cell_type": "code",
   "execution_count": 97,
   "metadata": {},
   "outputs": [],
   "source": [
    "#m = maze(\"tinySearch.txt\")\n",
    "#m = maze(\"smallSearch.txt\")\n",
    "#m = maze(\"mediumSearch.txt\")\n",
    "#m = maze(\"openMaze.txt\")\n",
    "m = maze(\"bigMaze.txt\")\n",
    "\n",
    "m.bfs(start = m.start)\n",
    "#m.dfs(start = m.start, end = m.end[0])"
   ]
  },
  {
   "cell_type": "code",
   "execution_count": 98,
   "metadata": {},
   "outputs": [],
   "source": [
    "index = 0\n",
    "solution = copy.deepcopy(m.raw_list)  \n",
    "\n",
    "def walking(maze):\n",
    "    for pos in maze.solution[0:index]:\n",
    "        x, y = pos\n",
    "        if maze.raw_list[y][x] == \".\":\n",
    "            solution[y] = solution[y][:x] + \"G\" + solution[y][x+1:]\n",
    "        elif maze.raw_list[y][x] == \"P\":\n",
    "            solution[y] = solution[y][:x] + \"P\" + solution[y][x+1:]\n",
    "        else:\n",
    "            solution[y] = solution[y][:x] + \".\" + solution[y][x+1:]\n",
    "            \n",
    "    for i in range(len(solution)):\n",
    "        print(solution[i])"
   ]
  },
  {
   "cell_type": "code",
   "execution_count": 24,
   "metadata": {},
   "outputs": [
    {
     "name": "stdout",
     "output_type": "stream",
     "text": [
      "%%%%%%%%%%%%%%%%%%%%%%%%%%%%%%%%%%%%%%%%%%%%%%%%%%%%%%%%%%%%%%%%%%%%%%%%%%%%%%%%%\n",
      "% %           %                       %   %     %       %   %               %  .%\n",
      "% % %%% %%% %%% %% %%%%%%%%%% %%%%%%% %%% % %%% % % %%% % % % %%%%% %%% %%%%% % %\n",
      "%   %     %   % %   %       %   %   %   % % %   % % %     % %     % % % %     % %\n",
      "% %%%%    %%% % %%% % % %%% %%% % % %%% % % % %%% % %%%%% % %     % % % % %%%%% %\n",
      "%         %   %   %   % % % %   % %       %     %       % % % %   % %   % %     %\n",
      "%%% %% %% % %%%%% % %%% % % %  %% % %%%% %% %%% % %%%%% % % % % %%% % %%% % %%% %\n",
      "%       % % %   % % % % %   %     % %       % %   %   %   %     %   % %   % % % %\n",
      "% %%%%%%% % % % % % % % %%% % %%%%% % %%%%%%% %%%%%%% %%%%%%% %%% %%% % %%% % % %\n",
      "%     %   %   %   % % %   %   %           %     %   %   %         %   %   % % % %\n",
      "%%%%% % %%%%%   %%% % %%% % %%% %%%     % % %%% % % %%% % %%%%%%% %%% %%% % % % %\n",
      "%         %     %   % %   % %   %   %   %   %     %     %   %   % %     % % %   %\n",
      "% %%%%%%% % %%%%% %%% % %%% % %%%%%%% %%%%%%%%%%% %%% %%% % % % %%% % %%% % % %%%\n",
      "%       % %           % %   %         %         % %   %   % % % %   %     % %   %\n",
      "%%% % %%% %%%%% %%%%%%% %%% %    %% %%% %%%%% % %%% % %       % % %%%% %%%% %%% %\n",
      "%   %   %     %   %   %       %         %       %   %   % %   %           % %   %\n",
      "% % %%% %%%%% % %%% % %%%%% % % %%%%%%%%% %% %%%% % %%%%% %% %%%%%%%%%% %%% % %%%\n",
      "% %         % % %   % %   % % %       %   %       % %   %         %     %   % % %\n",
      "% % %%% %%%%% % % %%% % % %%% %%%%%%% %%% % %%% % %%% % %% %%%%        %% %%% % %\n",
      "%   %   %   % %     % %     %           % %   % % %   %     %     %     %   % % %\n",
      "% % %%%%% % % % %%% % % %%% %%% % %%    % %%%%% %%% %%% %%% % %%%%% %%% %%% % % %\n",
      "% %       % % %   % %   % %     % %     %     %           % %       % %   % %   %\n",
      "% %%% % %%% % %%% % %  %% %%% %%% % %% %%%% % %%%%% %     % %   %% %% %%% % %%% %\n",
      "% %   % % %   % % %     %   %     % %       %     % %     %   % %     %   %     %\n",
      "%   % % % %   % % %     % % % %%% % % %%%%% %%%%% % % %%%%% % % % %%% % %%% % %%%\n",
      "%   % %     %     %     % %   %   % % %     %     % % %     %   %       %   % % %\n",
      "%%% %%%% %% % %  %% %% %% % %%% % % % % %%% % %%%%% % % %%%%% %   % % %%% % % % %\n",
      "%   %.... % % %   % %   %   % % % % % %   % % %     % %   %   %     %   % %     %\n",
      "%   %.%%% % %%% % % % % % %%% % % % % %%% %%% %% %%%% % % % % % %%%%% % %%% %%% %\n",
      "%P....  %       % % % %     %   %   %   %             % %   %         %     %   %\n",
      "%%%%%%%%%%%%%%%%%%%%%%%%%%%%%%%%%%%%%%%%%%%%%%%%%%%%%%%%%%%%%%%%%%%%%%%%%%%%%%%%%\n"
     ]
    }
   ],
   "source": [
    "walking(m)    \n",
    "index = index + 1"
   ]
  },
  {
   "cell_type": "markdown",
   "metadata": {},
   "source": [
    "## Complexity and cost:\n",
    "\n",
    "Big Maze:\n",
    "\n",
    "| Search Method |  Path Cost  | Time Complexity (per loop) |\n",
    "|---------------|-------------|-----------------|\n",
    "|  DFS          |    236      |    39.9 ms      |\n",
    "|  BFS          |    157      |    1.5 µs       |\n",
    "| Greedy        |    256      |    82.7 ms      |\n",
    "|   A\\*         |  |  |\n",
    "\n",
    "Medium Maze:\n",
    "\n",
    "| Search Method |  Path Cost  | Time Complexity (per loop) |\n",
    "|---------------|-------------|-----------------|\n",
    "|  DFS          |           |          |\n",
    "|  BFS          |           |            |\n",
    "| Greedy        |           |          |\n",
    "|   A\\*         |  |  |\n",
    "\n",
    "Open Maze:\n",
    "\n",
    "| Search Method |  Path Cost  | Time Complexity (per loop) |\n",
    "|---------------|-------------|-----------------|\n",
    "|  DFS          |           |          |\n",
    "|  BFS          |           |       |\n",
    "| Greedy        |           |        |\n",
    "|   A\\*         |  |  |"
   ]
  },
  {
   "cell_type": "code",
   "execution_count": null,
   "metadata": {
    "collapsed": true
   },
   "outputs": [],
   "source": []
  },
  {
   "cell_type": "code",
   "execution_count": null,
   "metadata": {
    "collapsed": true
   },
   "outputs": [],
   "source": []
  },
  {
   "cell_type": "code",
   "execution_count": null,
   "metadata": {
    "collapsed": true
   },
   "outputs": [],
   "source": []
  },
  {
   "cell_type": "code",
   "execution_count": null,
   "metadata": {
    "collapsed": true
   },
   "outputs": [],
   "source": []
  }
 ],
 "metadata": {
  "kernelspec": {
   "display_name": "Python 3",
   "language": "python",
   "name": "python3"
  },
  "language_info": {
   "codemirror_mode": {
    "name": "ipython",
    "version": 3
   },
   "file_extension": ".py",
   "mimetype": "text/x-python",
   "name": "python",
   "nbconvert_exporter": "python",
   "pygments_lexer": "ipython3",
   "version": "3.6.4"
  }
 },
 "nbformat": 4,
 "nbformat_minor": 2
}
