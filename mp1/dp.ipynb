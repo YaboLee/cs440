{
 "cells": [
  {
   "cell_type": "code",
   "execution_count": 1,
   "metadata": {
    "collapsed": true
   },
   "outputs": [],
   "source": [
    "import copy\n",
    "import numpy as np\n",
    "import numpy.linalg as la\n",
    "import time\n",
    "from collections import deque\n",
    "from operator import itemgetter\n",
    "import sys\n",
    "import queue as Q\n",
    "from itertools import permutations\n"
   ]
  },
  {
   "cell_type": "code",
   "execution_count": 2,
   "metadata": {
    "collapsed": true
   },
   "outputs": [],
   "source": [
    "class graph():\n",
    "    \n",
    "    def __init__(self, dict_path_dist):\n",
    "    #         self.start = dict_path_dist[0]\\n\",\n",
    "#         self.start = \n",
    "        self.nodes = []\n",
    "        self.edges = {}\n",
    "        self.adjancent = {}\n",
    "        for node in dict_path_dist:\n",
    "            self.insert_node(node)\n",
    "            for x in self.nodes:\n",
    "                for y in self.nodes:\n",
    "                    if x != y:\n",
    "                        self.insert_edge(x, y, dict_path_dist[x][1][y])\n",
    "    def insert_node(self, node):\n",
    "        self.nodes.append(node)\n",
    "\n",
    "    def insert_edge(self, x, y, weight):\n",
    "        if (x, y) not in self.edges:\n",
    "            self.edges[(x, y)] = weight\n",
    "        if x not in self.adjancent:\n",
    "            self.adjancent[x] = [y]\n",
    "        else:    \n",
    "            self.adjancent[x].append(y)\n",
    "        \n",
    "    def get_edge_by_last(self, edges, y):\n",
    "        output = []\n",
    "        for x in self.nodes:\n",
    "            if (x, y) in edges and x != (4,4):\n",
    "                output.append(((x, y) ,self.edges[x, y]) )\n",
    "        return output\n",
    "    \n",
    "    def del_edge_by_last(self, edges, y):\n",
    "        for x in self.nodes:\n",
    "            if (x, y) in edges:\n",
    "                del edges[(x, y)]\n",
    "        return edges\n",
    "\n",
    "    def del_edge_by_first(self, edges, x):\n",
    "        for y in self.nodes:\n",
    "            if(x, y) in edges:\n",
    "                del edges[(x, y)]\n",
    "        return edges\n",
    "        "
   ]
  },
  {
   "cell_type": "code",
   "execution_count": 3,
   "metadata": {
    "collapsed": true
   },
   "outputs": [],
   "source": [
    "class maze():\n",
    "    \n",
    "#   create a maze with list;\n",
    "    def __init__(self, maze=\"mediumMaze.txt\"):\n",
    "        self.cost = {}\n",
    "        self.raw_list = []\n",
    "        self.maze_list = []\n",
    "        self.nodes = []\n",
    "        self.width = None\n",
    "        self.height = None\n",
    "        self.end = []\n",
    "        self.start = None\n",
    "        self.visited = [] \n",
    "        self.solution = [] # ready for draw;\n",
    "        self.expandedNumber = 0\n",
    "        \n",
    "        with open(maze) as f:\n",
    "            for line in f:\n",
    "                self.raw_list.append(line.rstrip())\n",
    "        self.width = len(self.raw_list[0])\n",
    "        self.height = len(self.raw_list)\n",
    "        \n",
    "        for line in self.raw_list:\n",
    "            for char in line:\n",
    "                if char ==\"%\":\n",
    "                    self.maze_list.append(0)\n",
    "                elif char ==\".\":\n",
    "#                     self.maze_list.append(\"G\")\n",
    "                    self.maze_list.append(1)\n",
    "                    self.end.append((len(self.maze_list)%self.width-1, len(self.maze_list)//self.width))\n",
    "                    self.nodes.append((len(self.maze_list)%self.width-1, len(self.maze_list)//self.width))\n",
    "                elif char ==\"P\":\n",
    "#                     self.maze_list.append(\"P\")\n",
    "                    self.maze_list.append(1)\n",
    "                    self.start = ((len(self.maze_list)%self.width-1, len(self.maze_list)//self.width))\n",
    "                    self.nodes.append((len(self.maze_list)%self.width-1, len(self.maze_list)//self.width))\n",
    "                else:\n",
    "                    self.maze_list.append(1)\n",
    "                    self.nodes.append((len(self.maze_list)%self.width-1, len(self.maze_list)//self.width))\n",
    "\n",
    "    def accessMaze(self, x, y):\n",
    "        return self.maze_list[self.getPoint(x, y)]                \n",
    "    \n",
    "#   Transform the index in the raw_list to the index in the maze_list\n",
    "    def getPoint(self, x, y):\n",
    "        if x < self.width and y < self.height:\n",
    "            return y*self.width + x\n",
    "        else:\n",
    "            print(\"Index out of bound!\")\n",
    "            return False\n",
    "        \n",
    "    def getCordinate(self, point):\n",
    "        return (point%self.width, point//self.width)\n",
    "    \n",
    "    \n",
    "#   Return the adjacant node who is unvisited and valid\n",
    "    def adjacentList(self, pos):\n",
    "        adjacent = []\n",
    "        x, y = pos\n",
    "        if self.accessMaze(x+1, y) and self.getPoint(x+1, y) not in self.visited:\n",
    "            adjacent.append((x+1, y))\n",
    "        if self.accessMaze(x, y+1) and self.getPoint(x, y+1) not in self.visited:\n",
    "            adjacent.append((x, y+1))\n",
    "        if self.accessMaze(x-1, y) and self.getPoint(x-1, y) not in self.visited:\n",
    "            adjacent.append((x-1, y))\n",
    "        if self.accessMaze(x, y-1) and self.getPoint(x, y-1) not in self.visited:\n",
    "            adjacent.append((x, y-1))\n",
    "        return adjacent\n",
    "\n",
    "\n",
    "    def manhattanDistance(self, cur, des): return abs(cur[0] - des[0]) + abs(cur[1] - des[1])\n",
    "\n",
    "    def collect_all_mst(self):\n",
    "        all_nodes = list(self.end)\n",
    "        all_nodes.append(self.start)\n",
    "        dict_path_dist = {}\n",
    "        for n in all_nodes:\n",
    "            shortestPathTree, disToStart = self.dijsktra(n)\n",
    "            dict_path_dist[n] = [shortestPathTree, disToStart]\n",
    "        return dict_path_dist\n",
    "    \n",
    "    \n",
    "    def create_graph(self):\n",
    "        self.g = graph(self.collect_all_mst())\n",
    "        return self.g\n",
    "    \n",
    "    \n",
    "       \n",
    "    def collect_all_mst(self):\n",
    "        all_nodes = list(self.end)\n",
    "        all_nodes.append(self.start)\n",
    "        dict_path_dist = {}\n",
    "        for n in all_nodes:\n",
    "            shortestPathTree, disToStart = self.dijsktra(n)\n",
    "            dict_path_dist[n] = [shortestPathTree, disToStart]\n",
    "        return dict_path_dist\n",
    "    \n",
    "    def create_graph(self):\n",
    "        self.g = graph(self.collect_all_mst())\n",
    "        return self.g\n",
    "      \n",
    "          \n",
    "      \n",
    "    def dynammic(self):\n",
    "        self.g = self.create_graph()\n",
    "        nodes = self.g.nodes[:]\n",
    "        nodes.remove(self.start)\n",
    "        self.edges = copy.deepcopy(self.g.edges)\n",
    "        \n",
    "        self.memo = {}\n",
    "        cost = []\n",
    "          \n",
    "        for n in nodes:\n",
    "            temp = nodes[:]\n",
    "            temp.remove(n)\n",
    "#             print(self.memo)\n",
    "            if (tuple(temp), n) in self.memo:\n",
    "                cost.append(self.memo[(tuple(temp), n)])\n",
    "            else:\n",
    "                self.memo[(tuple(temp), n)] = self.dynammic_helper(temp, n)\n",
    "                cost.append(self.memo[(tuple(temp), n)])\n",
    "#             print(n)\n",
    "#         print(cost)\n",
    "        return min(cost)\n",
    "              \n",
    "    def dynammic_helper(self, nodes, y):\n",
    "        if not nodes:\n",
    "#             print(\\\"touch the start\\\")\n",
    "            if (self.start, y) not in self.memo:\n",
    "                t = self.edges[(self.start, y)]\n",
    "                self.memo[(self.start, y)] = t\n",
    "            return t\n",
    "        new_cost = []\n",
    "        for n in nodes:\n",
    "#             with Pool(5) as p:\n",
    "                \n",
    "            temp = nodes[:]\n",
    "            temp.remove(n)\n",
    "            if (tuple(temp), n) not in self.memo:\n",
    "                t = self.dynammic_helper(temp, n)\n",
    "                self.memo[(tuple(temp), n)] = t\n",
    "                new_cost.append(t + self.edges[(n, y)])\n",
    "            else:\n",
    "                new_cost.append(self.memo[(tuple(temp), n)] + self.edges[(n ,y)])\n",
    "    #             print(n, y, self.g.edges[(n, y)])\n",
    "#             print(new_cost)\n",
    "        return min(new_cost)\n",
    "      \n",
    "\n",
    "      \n",
    "    \n",
    "    \n",
    "    \n",
    "    \n",
    "    \n",
    "    \n",
    "\n",
    "#   Create MST; Find the shortest path;\n",
    "    def dijsktra(self, start):\n",
    "#       Record the path; key: node   value: pre;\n",
    "        shortestPathTree = {start: (-1,-1)}\n",
    "#       Distance from the node to the starting point; key: node   value: distance;\n",
    "        disToStart = {start:0}\n",
    "        \n",
    "#       Initialize the distance record; ESP, starting point has distance 0 and other nodes has maxINT;\n",
    "        for node in range(self.width*self.height):\n",
    "            if self.getCordinate(node) != start and self.maze_list[node] != 0:\n",
    "                disToStart[self.getCordinate(node)] = sys.maxsize\n",
    "#       self.nodes saves all the nodes; Check __init__;\n",
    "        nodes = self.nodes[:]\n",
    "#       Travel all the nodes, label their distance and pre;\n",
    "        while nodes:\n",
    "            min_node = None\n",
    "#           Find the visited node with least distance;\n",
    "            for node in nodes:\n",
    "                if node in shortestPathTree:\n",
    "                    if min_node == None:\n",
    "                        min_node = node\n",
    "                    elif disToStart[node] < disToStart[min_node]:\n",
    "                        min_node = node\n",
    "#           All the nodes have already been checked;\n",
    "            if min_node == None:\n",
    "                break\n",
    "            \n",
    "            nodes.remove(min_node)\n",
    "#           Current cost from start to the node;\n",
    "            minToStart = disToStart[min_node]\n",
    "            \n",
    "            adjacent_nodes = self.adjacentList(min_node)\n",
    "#           Label all the adjacent nodes;\n",
    "            for adj_node in adjacent_nodes:\n",
    "#               The edge weight is only 1;\n",
    "                newToStart = minToStart + 1\n",
    "#                 newToStart = minToStart + self.manhattanDistance(min_node, self.end)\n",
    "#               If the node has not been visited or the distance should be updated;\n",
    "                if adj_node not in shortestPathTree or newToStart < disToStart[adj_node]:\n",
    "                    shortestPathTree[adj_node] = min_node\n",
    "                    disToStart[adj_node] = newToStart\n",
    "        return shortestPathTree, disToStart"
   ]
  },
  {
   "cell_type": "code",
   "execution_count": 4,
   "metadata": {},
   "outputs": [
    {
     "data": {
      "text/plain": [
       "124"
      ]
     },
     "execution_count": 4,
     "metadata": {},
     "output_type": "execute_result"
    }
   ],
   "source": [
    "# m = maze(\"mediumSearch.txt\")\n",
    "m = maze(\"smallSearch.txt\")\n",
    "# m.create_graph()\n",
    "# print(len(m.g.edges))\n",
    "# print(len(m.g.nodes))\n",
    "# m.g.adjancent[1,1]\n",
    "# m.calculate_cost()\n",
    "m.dynammic()\n",
    "# m.g.nodes"
   ]
  },
  {
   "cell_type": "code",
   "execution_count": 7,
   "metadata": {},
   "outputs": [
    {
     "data": {
      "text/plain": [
       "{(1, 1): [(8, 1),\n",
       "  (3, 2),\n",
       "  (6, 3),\n",
       "  (8, 3),\n",
       "  (2, 4),\n",
       "  (1, 5),\n",
       "  (4, 5),\n",
       "  (7, 5),\n",
       "  (8, 6),\n",
       "  (1, 7),\n",
       "  (6, 7),\n",
       "  (4, 4)],\n",
       " (1, 5): [(1, 1),\n",
       "  (8, 1),\n",
       "  (3, 2),\n",
       "  (6, 3),\n",
       "  (8, 3),\n",
       "  (2, 4),\n",
       "  (4, 5),\n",
       "  (7, 5),\n",
       "  (8, 6),\n",
       "  (1, 7),\n",
       "  (6, 7),\n",
       "  (4, 4)],\n",
       " (1, 7): [(1, 1),\n",
       "  (8, 1),\n",
       "  (3, 2),\n",
       "  (6, 3),\n",
       "  (8, 3),\n",
       "  (2, 4),\n",
       "  (1, 5),\n",
       "  (4, 5),\n",
       "  (7, 5),\n",
       "  (8, 6),\n",
       "  (6, 7),\n",
       "  (4, 4)],\n",
       " (2, 4): [(1, 1),\n",
       "  (8, 1),\n",
       "  (3, 2),\n",
       "  (6, 3),\n",
       "  (8, 3),\n",
       "  (1, 5),\n",
       "  (4, 5),\n",
       "  (7, 5),\n",
       "  (8, 6),\n",
       "  (1, 7),\n",
       "  (6, 7),\n",
       "  (4, 4)],\n",
       " (3, 2): [(1, 1),\n",
       "  (8, 1),\n",
       "  (6, 3),\n",
       "  (8, 3),\n",
       "  (2, 4),\n",
       "  (1, 5),\n",
       "  (4, 5),\n",
       "  (7, 5),\n",
       "  (8, 6),\n",
       "  (1, 7),\n",
       "  (6, 7),\n",
       "  (4, 4)],\n",
       " (4, 4): [(1, 1),\n",
       "  (8, 1),\n",
       "  (3, 2),\n",
       "  (6, 3),\n",
       "  (8, 3),\n",
       "  (2, 4),\n",
       "  (1, 5),\n",
       "  (4, 5),\n",
       "  (7, 5),\n",
       "  (8, 6),\n",
       "  (1, 7),\n",
       "  (6, 7)],\n",
       " (4, 5): [(1, 1),\n",
       "  (8, 1),\n",
       "  (3, 2),\n",
       "  (6, 3),\n",
       "  (8, 3),\n",
       "  (2, 4),\n",
       "  (1, 5),\n",
       "  (7, 5),\n",
       "  (8, 6),\n",
       "  (1, 7),\n",
       "  (6, 7),\n",
       "  (4, 4)],\n",
       " (6, 3): [(1, 1),\n",
       "  (8, 1),\n",
       "  (3, 2),\n",
       "  (8, 3),\n",
       "  (2, 4),\n",
       "  (1, 5),\n",
       "  (4, 5),\n",
       "  (7, 5),\n",
       "  (8, 6),\n",
       "  (1, 7),\n",
       "  (6, 7),\n",
       "  (4, 4)],\n",
       " (6, 7): [(1, 1),\n",
       "  (8, 1),\n",
       "  (3, 2),\n",
       "  (6, 3),\n",
       "  (8, 3),\n",
       "  (2, 4),\n",
       "  (1, 5),\n",
       "  (4, 5),\n",
       "  (7, 5),\n",
       "  (8, 6),\n",
       "  (1, 7),\n",
       "  (4, 4)],\n",
       " (7, 5): [(1, 1),\n",
       "  (8, 1),\n",
       "  (3, 2),\n",
       "  (6, 3),\n",
       "  (8, 3),\n",
       "  (2, 4),\n",
       "  (1, 5),\n",
       "  (4, 5),\n",
       "  (8, 6),\n",
       "  (1, 7),\n",
       "  (6, 7),\n",
       "  (4, 4)],\n",
       " (8, 1): [(1, 1),\n",
       "  (3, 2),\n",
       "  (6, 3),\n",
       "  (8, 3),\n",
       "  (2, 4),\n",
       "  (1, 5),\n",
       "  (4, 5),\n",
       "  (7, 5),\n",
       "  (8, 6),\n",
       "  (1, 7),\n",
       "  (6, 7),\n",
       "  (4, 4)],\n",
       " (8, 3): [(1, 1),\n",
       "  (8, 1),\n",
       "  (3, 2),\n",
       "  (6, 3),\n",
       "  (2, 4),\n",
       "  (1, 5),\n",
       "  (4, 5),\n",
       "  (7, 5),\n",
       "  (8, 6),\n",
       "  (1, 7),\n",
       "  (6, 7),\n",
       "  (4, 4)],\n",
       " (8, 6): [(1, 1),\n",
       "  (8, 1),\n",
       "  (3, 2),\n",
       "  (6, 3),\n",
       "  (8, 3),\n",
       "  (2, 4),\n",
       "  (1, 5),\n",
       "  (4, 5),\n",
       "  (7, 5),\n",
       "  (1, 7),\n",
       "  (6, 7),\n",
       "  (4, 4)]}"
      ]
     },
     "execution_count": 7,
     "metadata": {},
     "output_type": "execute_result"
    }
   ],
   "source": [
    "m.g.adjancent"
   ]
  },
  {
   "cell_type": "code",
   "execution_count": 36,
   "metadata": {},
   "outputs": [
    {
     "data": {
      "text/plain": [
       "(25, 8)"
      ]
     },
     "execution_count": 36,
     "metadata": {},
     "output_type": "execute_result"
    }
   ],
   "source": [
    "m.start"
   ]
  },
  {
   "cell_type": "code",
   "execution_count": 16,
   "metadata": {},
   "outputs": [
    {
     "name": "stdout",
     "output_type": "stream",
     "text": [
      "[1, 1, 1]\n"
     ]
    }
   ],
   "source": [
    "from multiprocessing import Pool\n",
    "def f(x):\n",
    "    if x > 1:\n",
    "        return f(x-1)\n",
    "    return x\n",
    "with Pool(5) as p:\n",
    "    print(p.map(f, [1, 2, 3]))"
   ]
  },
  {
   "cell_type": "code",
   "execution_count": 19,
   "metadata": {},
   "outputs": [
    {
     "data": {
      "text/plain": [
       "[1, 2, 3]"
      ]
     },
     "execution_count": 19,
     "metadata": {},
     "output_type": "execute_result"
    }
   ],
   "source": [
    "list(map(lambda x: x, [1, 2, 3]))"
   ]
  },
  {
   "cell_type": "code",
   "execution_count": 14,
   "metadata": {
    "collapsed": true
   },
   "outputs": [],
   "source": [
    "test = {}\n",
    "if ((1),1)  in test:\n",
    "    print(\"jj\")"
   ]
  },
  {
   "cell_type": "code",
   "execution_count": 10,
   "metadata": {
    "collapsed": true
   },
   "outputs": [],
   "source": [
    "a = [1,2,3]"
   ]
  },
  {
   "cell_type": "code",
   "execution_count": 11,
   "metadata": {},
   "outputs": [
    {
     "data": {
      "text/plain": [
       "(1, 2, 3)"
      ]
     },
     "execution_count": 11,
     "metadata": {},
     "output_type": "execute_result"
    }
   ],
   "source": [
    "tuple(a)"
   ]
  },
  {
   "cell_type": "code",
   "execution_count": 12,
   "metadata": {},
   "outputs": [
    {
     "data": {
      "text/plain": [
       "[1, 2, 3]"
      ]
     },
     "execution_count": 12,
     "metadata": {},
     "output_type": "execute_result"
    }
   ],
   "source": [
    "a"
   ]
  },
  {
   "cell_type": "code",
   "execution_count": null,
   "metadata": {
    "collapsed": true
   },
   "outputs": [],
   "source": []
  }
 ],
 "metadata": {
  "kernelspec": {
   "display_name": "Python 3",
   "language": "python",
   "name": "python3"
  },
  "language_info": {
   "codemirror_mode": {
    "name": "ipython",
    "version": 3
   },
   "file_extension": ".py",
   "mimetype": "text/x-python",
   "name": "python",
   "nbconvert_exporter": "python",
   "pygments_lexer": "ipython3",
   "version": "3.6.1"
  }
 },
 "nbformat": 4,
 "nbformat_minor": 2
}
