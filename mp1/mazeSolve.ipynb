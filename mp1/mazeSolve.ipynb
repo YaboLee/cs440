{
 "cells": [
  {
   "cell_type": "code",
   "execution_count": 98,
   "metadata": {},
   "outputs": [
    {
     "data": {
      "text/plain": [
       "['%%%%%%%%%%%%%%%%%%%%%%%%%%%%%%%%%%%%%%%%%%%%%%%%%%%%%%%%%%%%%',\n",
       " '%P    %       %             %         %     %           %   %',\n",
       " '%%% %%% % %%%%% %%%%% %%%%% %%% %%%%%%% % %%% % %%%%%%% % %%%',\n",
       " '%   %         %   % %   % %   %         %   % %     % % %   %',\n",
       " '% %%% %%% %%% %%% % %%% % %%% % %%%%%% %%%% % %%%%% % % %%% %',\n",
       " '% %   % %   % %   %   % %                 % %   % % %       %',\n",
       " '%   %%% % % % % % % % % %%% % %%%%%%% %%% % %%% % % %%%%%%% %',\n",
       " '% %   %   % %   %   % %   % %     %   %   %     % %   %   % %',\n",
       " '% %%%%%%% % % %%% %%% %%% % %%% %%% % % %%%%%%%%% %%% % % % %',\n",
       " '%   %   % %       % % %   %   % %   % % %     %     %   % % %',\n",
       " '% % %%% % %%% %%%%% % % %%%%% % % %%% % % %%% %%%%% %%%%% %%%',\n",
       " '% %   % %   %         % %   % %     %   % % %           %   %',\n",
       " '% %%%%% %%%%% %%%%% %%% % % % %%%%%%%%% % % %%% %%% %%% %%% %',\n",
       " '%     %       %         % % %         %   %     %     %   % %',\n",
       " '% %%% %%% %%%%% %%%%% % %%% %%% %%%%% %%%%%% %%%% %%% %%% % %',\n",
       " '%   %     %     %   % %         % % %   %     %   %     % % %',\n",
       " '% % %%% %%% %%% %%% % %%% %%%% %% % %%% % %%% % %%% %%% %%% %',\n",
       " '% %   %   %       %       %       %   %   % % % %     %   % %',\n",
       " '% % %%% % %%%% %% %%%%%%%%% %%%%% %%% % %%% % % % % %%%%% % %',\n",
       " '% %     %   %     %       %   %       %     %   % % %   % % %',\n",
       " '% %%%% %% % % %%%%% %%%%% %%% % %%%% %% %%% %% %% %%% % % % %',\n",
       " '%         % %           %     %           %           % %  .%',\n",
       " '%%%%%%%%%%%%%%%%%%%%%%%%%%%%%%%%%%%%%%%%%%%%%%%%%%%%%%%%%%%%%']"
      ]
     },
     "execution_count": 98,
     "metadata": {},
     "output_type": "execute_result"
    }
   ],
   "source": []
  },
  {
   "cell_type": "code",
   "execution_count": 175,
   "metadata": {},
   "outputs": [],
   "source": [
    "class maze():\n",
    "    raw_list = []\n",
    "    maze_list = []\n",
    "    width = None\n",
    "    height = None\n",
    "    \n",
    "#   create a maze with list;\n",
    "    def __init__(self, maze=\"mediumMaze.txt\"):\n",
    "        with open(maze) as f:\n",
    "            for line in f:\n",
    "                self.raw_list.append(line.rstrip())\n",
    "        self.width = len(self.raw_list[0])\n",
    "        self.height = len(self.raw_list)\n",
    "        \n",
    "        for line in self.raw_list:\n",
    "            for char in line:\n",
    "                if char == \"%\":\n",
    "                    self.maze_list.append(0)\n",
    "                else:\n",
    "                    self.maze_list.append(1)\n",
    "\n",
    "#   get the index in the raw_list;\n",
    "    def getPoint(self, x, y):\n",
    "        if x < self.width and y < self.height:\n",
    "            return y*self.width + x\n",
    "        else:\n",
    "#             print(self.width, self.height)\n",
    "            print(\"Index out of bound!\")\n",
    "            return False\n",
    "    \n",
    "#   check the wall in the maze_list;\n",
    "    def accessMaze(self, x, y):\n",
    "        return self.maze_list[self.getPoint(x, y)]\n",
    "    \n",
    "#     right:0\n",
    "#     bottom:1\n",
    "#     left:2\n",
    "#     top:3\n",
    "# Check whether this direction can travel;\n",
    "    def canTravel(self, pos, direction, visited):\n",
    "#         print(pos, direction,visited)\n",
    "        x, y = pos\n",
    "        if direction == 0:\n",
    "            if self.accessMaze(x+1, y) and self.getPoint(x+1, y) not in visited:\n",
    "                return True\n",
    "        elif direction == 1:\n",
    "            if self.accessMaze(x, y+1) and self.getPoint(x, y+1) not in visited:\n",
    "                return True\n",
    "        elif direction == 2:\n",
    "            if self.accessMaze(x-1, y) and self.getPoint(x-1, y) not in visited:\n",
    "                return True\n",
    "        elif direction == 3:\n",
    "            if self.accessMaze(x, y-1) and self.getPoint(x, y-1) not in visited:\n",
    "                return True\n",
    "        else:\n",
    "            return False\n",
    "    \n",
    "    \n",
    "    def dfs(self, start=(1,1), end=(59,21)):\n",
    "        visited = []\n",
    "        visited.append(self.getPoint(start[0], start[1]))\n",
    "#         track = []\n",
    "#         track.append(self.getPoint(start[0], start[1]))\n",
    "        print(\"start\")\n",
    "        self.dfs_helper(start, end, visited)\n",
    "        \n",
    "        \n",
    "    def dfs_helper(self, current, end, visited):\n",
    "        if current == end:\n",
    "            print(\"I get the destination!\")\n",
    "            return True\n",
    "#         print(current)\n",
    "        if self.canTravel(current, 0, visited):\n",
    "            nextStep = (current[0]+1, current[1])\n",
    "#             print(nextStep)\n",
    "            visited.append(self.getPoint(nextStep[0], nextStep[1]))\n",
    "            self.dfs_helper(nextStep, end, visited)\n",
    "            \n",
    "        if self.canTravel(current, 1, visited):\n",
    "            nextStep = (current[0], current[1]+1)\n",
    "#             print(nextStep)\n",
    "            visited.append(self.getPoint(nextStep[0], nextStep[1]))\n",
    "            self.dfs_helper(nextStep, end, visited)\n",
    "        \n",
    "        if self.canTravel(current, 2, visited):\n",
    "            nextStep = (current[0]-1, current[1])\n",
    "#             print(nextStep)\n",
    "            visited.append(self.getPoint(nextStep[0], nextStep[1]))\n",
    "            self.dfs_helper(nextStep, end, visited)\n",
    "        if self.canTravel(current, 3, visited):\n",
    "            nextStep = (current[0], current[1]-1)\n",
    "#             print(nextStep)\n",
    "            visited.append(self.getPoint(nextStep[0], nextStep[1]))\n",
    "            self.dfs_helper(nextStep, end, visited)\n",
    "        else:\n",
    "            return\n",
    "        \n",
    "                \n",
    "            \n",
    "        \n",
    "        \n",
    "        "
   ]
  },
  {
   "cell_type": "code",
   "execution_count": 176,
   "metadata": {},
   "outputs": [],
   "source": [
    "m = maze()"
   ]
  },
  {
   "cell_type": "code",
   "execution_count": 177,
   "metadata": {},
   "outputs": [
    {
     "name": "stdout",
     "output_type": "stream",
     "text": [
      "start\n",
      "I get the destination!\n"
     ]
    }
   ],
   "source": [
    "m.dfs()"
   ]
  },
  {
   "cell_type": "code",
   "execution_count": null,
   "metadata": {
    "collapsed": true
   },
   "outputs": [],
   "source": []
  }
 ],
 "metadata": {
  "kernelspec": {
   "display_name": "Python 3",
   "language": "python",
   "name": "python3"
  },
  "language_info": {
   "codemirror_mode": {
    "name": "ipython",
    "version": 3
   },
   "file_extension": ".py",
   "mimetype": "text/x-python",
   "name": "python",
   "nbconvert_exporter": "python",
   "pygments_lexer": "ipython3",
   "version": "3.6.1"
  }
 },
 "nbformat": 4,
 "nbformat_minor": 2
}
