{
 "cells": [
  {
   "cell_type": "code",
   "execution_count": null,
   "metadata": {
    "collapsed": true
   },
   "outputs": [],
   "source": []
  },
  {
   "cell_type": "code",
   "execution_count": 1,
   "metadata": {
    "collapsed": true
   },
   "outputs": [],
   "source": [
    "class widget():\n",
    "#     parameters: components is a lsit of building components;\n",
    "#     attributes:\n",
    "#             remaining: remains to be loaded;\n",
    "#             current: component in front of the list;\n",
    "    def __init__(self, components):\n",
    "        self.remaining = components\n",
    "        self.current = self.remaining[0]\n",
    "        "
   ]
  },
  {
   "cell_type": "code",
   "execution_count": 18,
   "metadata": {},
   "outputs": [],
   "source": [
    "class planning_for_least_steps():\n",
    "#     Build the plan\n",
    "    def __init__(self):\n",
    "#         self.W1 = widget([\"A\", \"E\", \"D\", \"C\", \"A\"])\n",
    "#         self.W2 = widget([\"B\", \"E\", \"A\", \"C\", \"D\"])\n",
    "#         self.W3 = widget([\"B\", \"A\", \"B\", \"C\", \"E\"])\n",
    "#         self.W4 = widget([\"D\", \"A\", \"D\", \"B\", \"D\"])\n",
    "#         self.W5 = widget([\"B\", \"E\", \"C\", \"B\", \"D\"])\n",
    "        \n",
    "        self.W1 = [\"A\", \"E\", \"D\", \"C\", \"A\"]\n",
    "        self.W2 = [\"B\", \"E\", \"A\", \"C\", \"D\"]\n",
    "        self.W3 = [\"B\", \"A\", \"B\", \"C\", \"E\"]\n",
    "        self.W4 = [\"D\", \"A\", \"D\", \"B\", \"D\"]\n",
    "        self.W5 = [\"B\", \"E\", \"C\", \"B\", \"D\"]\n",
    "    \n",
    "        self.starting_factory = \"A\"\n",
    "#         self.current_factory = \n",
    "        \n",
    "#         self.front_list = self.get_front_list()\n",
    "        \n",
    "    def get_front_list(self):\n",
    "        front_list = []\n",
    "        if self.W1:\n",
    "            front_list.append(self.W1[0])\n",
    "        if self.W2:\n",
    "            front_list.append(self.W2[0])\n",
    "        if self.W3:\n",
    "            front_list.append(self.W3[0])\n",
    "        if self.W4:\n",
    "            front_list.append(self.W4[0])\n",
    "        if self.W5:\n",
    "            front_list.append(self.W5[0])\n",
    "\n",
    "        return front_list\n",
    "        \n",
    "    def huristic_function(self):\n",
    "        front_list = self.get_front_list()\n",
    "        return max(set(front_list), key=front_list.count)\n",
    "    \n",
    "    def pop_component(component):\n",
    "        if self.W1 and self.W1[0] == component:\n",
    "            self.W1.pop(0)\n",
    "        if self.W2 and self.W2[0] == component:\n",
    "            self.W2.pop(0)\n",
    "        if self.W3 and self.W3[0] == component:\n",
    "            self.W3.pop(0)\n",
    "        if self.W4 and self.W4[0] == component:\n",
    "            self.W4.pop(0)\n",
    "        if self.W5 and self.W5[0] == component:\n",
    "            self.W5.pop(0)\n",
    "    \n",
    "    def plan(self):\n",
    "        step = []\n",
    "        step.append(self.starting_factory)\n",
    "        self.pop_component(self.starting_factory)\n",
    "        \n",
    "        front_list = self.get_front_list()\n",
    "        \n",
    "        while front_list:\n",
    "            max_component = self.huristic_function()\n",
    "            step.append(max_component)\n",
    "        \n",
    "        \n",
    "            "
   ]
  },
  {
   "cell_type": "code",
   "execution_count": 19,
   "metadata": {
    "collapsed": true
   },
   "outputs": [],
   "source": [
    "p = planning_for_least_steps()"
   ]
  },
  {
   "cell_type": "code",
   "execution_count": 20,
   "metadata": {},
   "outputs": [
    {
     "data": {
      "text/plain": [
       "'B'"
      ]
     },
     "execution_count": 20,
     "metadata": {},
     "output_type": "execute_result"
    }
   ],
   "source": [
    "p.huristic_function()"
   ]
  },
  {
   "cell_type": "code",
   "execution_count": null,
   "metadata": {
    "collapsed": true
   },
   "outputs": [],
   "source": []
  },
  {
   "cell_type": "code",
   "execution_count": 6,
   "metadata": {
    "collapsed": true
   },
   "outputs": [],
   "source": [
    "class test():\n",
    "    a = \"A\"\n",
    "    def __str__(self):\n",
    "        return a\n",
    "    \n",
    "    def __rep"
   ]
  },
  {
   "cell_type": "code",
   "execution_count": 7,
   "metadata": {
    "collapsed": true
   },
   "outputs": [],
   "source": [
    "t = test()"
   ]
  },
  {
   "cell_type": "code",
   "execution_count": 8,
   "metadata": {},
   "outputs": [
    {
     "data": {
      "text/plain": [
       "<__main__.test at 0x2119734f358>"
      ]
     },
     "execution_count": 8,
     "metadata": {},
     "output_type": "execute_result"
    }
   ],
   "source": [
    "t"
   ]
  },
  {
   "cell_type": "code",
   "execution_count": 9,
   "metadata": {
    "collapsed": true
   },
   "outputs": [],
   "source": [
    "test = [1, 2, 3, 4, 4]"
   ]
  },
  {
   "cell_type": "code",
   "execution_count": 11,
   "metadata": {},
   "outputs": [
    {
     "data": {
      "text/plain": [
       "4"
      ]
     },
     "execution_count": 11,
     "metadata": {},
     "output_type": "execute_result"
    }
   ],
   "source": [
    "max(set(test), key=test.count)"
   ]
  },
  {
   "cell_type": "code",
   "execution_count": 21,
   "metadata": {},
   "outputs": [
    {
     "data": {
      "text/plain": [
       "1"
      ]
     },
     "execution_count": 21,
     "metadata": {},
     "output_type": "execute_result"
    }
   ],
   "source": [
    "test.pop(0)"
   ]
  },
  {
   "cell_type": "code",
   "execution_count": 22,
   "metadata": {},
   "outputs": [
    {
     "data": {
      "text/plain": [
       "[2, 3, 4, 4]"
      ]
     },
     "execution_count": 22,
     "metadata": {},
     "output_type": "execute_result"
    }
   ],
   "source": [
    "test"
   ]
  },
  {
   "cell_type": "code",
   "execution_count": null,
   "metadata": {
    "collapsed": true
   },
   "outputs": [],
   "source": []
  }
 ],
 "metadata": {
  "kernelspec": {
   "display_name": "Python 3",
   "language": "python",
   "name": "python3"
  },
  "language_info": {
   "codemirror_mode": {
    "name": "ipython",
    "version": 3
   },
   "file_extension": ".py",
   "mimetype": "text/x-python",
   "name": "python",
   "nbconvert_exporter": "python",
   "pygments_lexer": "ipython3",
   "version": "3.6.1"
  }
 },
 "nbformat": 4,
 "nbformat_minor": 2
}
